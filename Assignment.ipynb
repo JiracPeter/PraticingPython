{
 "cells": [
  {
   "cell_type": "markdown",
   "id": "5758b599",
   "metadata": {},
   "source": [
    "# (04/10/2023)"
   ]
  },
  {
   "cell_type": "code",
   "execution_count": 37,
   "id": "76709984",
   "metadata": {},
   "outputs": [],
   "source": [
    "my_list = [-2,-3,4,-1,-2,1,5,-3]\n",
    "new_list = []\n",
    "def my_func():\n",
    "    for i in range(0,len(my_list)):\n",
    "        for j in range(0,len(my_list)):\n",
    "            sum_total = []\n",
    "            sum_total.append(my_list[i]+my_list[j])\n",
    "    return sum_total"
   ]
  },
  {
   "cell_type": "code",
   "execution_count": 38,
   "id": "3de346e6",
   "metadata": {},
   "outputs": [
    {
     "data": {
      "text/plain": [
       "[-6]"
      ]
     },
     "execution_count": 38,
     "metadata": {},
     "output_type": "execute_result"
    }
   ],
   "source": [
    "my_func()\n"
   ]
  },
  {
   "cell_type": "code",
   "execution_count": null,
   "id": "13825f05",
   "metadata": {},
   "outputs": [],
   "source": []
  },
  {
   "cell_type": "code",
   "execution_count": null,
   "id": "07a53089",
   "metadata": {},
   "outputs": [],
   "source": []
  },
  {
   "cell_type": "code",
   "execution_count": null,
   "id": "a7bd7df0",
   "metadata": {},
   "outputs": [],
   "source": []
  },
  {
   "cell_type": "code",
   "execution_count": null,
   "id": "b8bf11b6",
   "metadata": {},
   "outputs": [],
   "source": []
  },
  {
   "cell_type": "code",
   "execution_count": 17,
   "id": "df99cd79",
   "metadata": {},
   "outputs": [],
   "source": [
    "def mu_func(arr1,arr2):\n",
    "    for i in arr1:\n",
    "        if i in arr2:\n",
    "            return i"
   ]
  },
  {
   "cell_type": "code",
   "execution_count": 20,
   "id": "a70fb244",
   "metadata": {},
   "outputs": [],
   "source": [
    "a = [1,2,3]\n",
    "b = [2]"
   ]
  },
  {
   "cell_type": "code",
   "execution_count": 21,
   "id": "5d910050",
   "metadata": {},
   "outputs": [
    {
     "data": {
      "text/plain": [
       "2"
      ]
     },
     "execution_count": 21,
     "metadata": {},
     "output_type": "execute_result"
    }
   ],
   "source": [
    "mu_func(a,b)"
   ]
  },
  {
   "cell_type": "code",
   "execution_count": null,
   "id": "0069a97f",
   "metadata": {},
   "outputs": [],
   "source": []
  },
  {
   "cell_type": "code",
   "execution_count": 38,
   "id": "7cbd09f8",
   "metadata": {},
   "outputs": [],
   "source": [
    "def find_max_range_value(arr):\n",
    "    max_sum = arr[0]\n",
    "    current_sum = arr[0]\n",
    "    start = 0\n",
    "    end = 0\n",
    "    temp_start = 0\n",
    "    \n",
    "    for i in range(1,len(arr)):\n",
    "        if arr[i] > current_sum + arr[i]:\n",
    "            current_sum = arr[i]\n",
    "            temp_start = i\n",
    "        else:\n",
    "            current_sum += arr[i]\n",
    "            \n",
    "        \n",
    "        if current_sum > max_sum:\n",
    "            max_sum = current_sum\n",
    "            start = temp_start\n",
    "            end = i\n",
    "            \n",
    "    return max_sum , start ,end"
   ]
  },
  {
   "cell_type": "code",
   "execution_count": 39,
   "id": "65086d40",
   "metadata": {},
   "outputs": [],
   "source": [
    "my_list = [-1, -3, -4, -10, -2, -10, -5, -10]\n",
    "\n",
    "max_value , start , end =  find_max_range_value(my_list)"
   ]
  },
  {
   "cell_type": "code",
   "execution_count": 40,
   "id": "ed53059d",
   "metadata": {},
   "outputs": [
    {
     "name": "stdout",
     "output_type": "stream",
     "text": [
      "-1\n",
      "0\n",
      "0\n"
     ]
    }
   ],
   "source": [
    "print(max_value)\n",
    "print(start)\n",
    "print(end)"
   ]
  },
  {
   "cell_type": "code",
   "execution_count": 15,
   "id": "61de5e15",
   "metadata": {},
   "outputs": [
    {
     "name": "stdout",
     "output_type": "stream",
     "text": [
      "The max value is 7 , between the range of 2 to 6\n"
     ]
    }
   ],
   "source": [
    "print(f'The max value is {max_value} , between the range of {start} to {end }')"
   ]
  },
  {
   "cell_type": "code",
   "execution_count": null,
   "id": "43b64eda",
   "metadata": {},
   "outputs": [],
   "source": []
  },
  {
   "cell_type": "code",
   "execution_count": 41,
   "id": "77edf4a0",
   "metadata": {},
   "outputs": [],
   "source": [
    "myDict = {'ravi': 10, 'rajnish': 9,\n",
    "        'sanjeev': 15, 'yash': 2, 'suraj': 32}"
   ]
  },
  {
   "cell_type": "code",
   "execution_count": 47,
   "id": "f42a8d96",
   "metadata": {},
   "outputs": [
    {
     "data": {
      "text/plain": [
       "['rajnish', 'ravi', 'sanjeev', 'suraj', 'yash']"
      ]
     },
     "execution_count": 47,
     "metadata": {},
     "output_type": "execute_result"
    }
   ],
   "source": [
    "sort_d = list(myDict.keys())\n",
    "sort_d.sort()\n",
    "sort_d"
   ]
  },
  {
   "cell_type": "code",
   "execution_count": 63,
   "id": "1029126d",
   "metadata": {},
   "outputs": [],
   "source": [
    "def dict_func_keys(arr,my_dict):\n",
    "    for i in arr:\n",
    "        print(i,my_dict[i])\n",
    "        "
   ]
  },
  {
   "cell_type": "code",
   "execution_count": 64,
   "id": "e36cf3b1",
   "metadata": {},
   "outputs": [
    {
     "name": "stdout",
     "output_type": "stream",
     "text": [
      "rajnish 9\n",
      "ravi 10\n",
      "sanjeev 15\n",
      "suraj 32\n",
      "yash 2\n"
     ]
    }
   ],
   "source": [
    "dict_func_keys(sort_d,myDict)"
   ]
  },
  {
   "cell_type": "code",
   "execution_count": 89,
   "id": "0827984c",
   "metadata": {},
   "outputs": [],
   "source": [
    "# footballers_goals = {'Eusebio': 120, 'Cruyff': 104, 'Pele': 150, 'Ronaldo': 132, 'Messi': 125}\n",
    "\n",
    "# sorted_footballers_by_goals = sorted(footballers_goals.items(), key=lambda x:x[1])\n",
    "# print(sorted_footballers_by_goals)"
   ]
  },
  {
   "cell_type": "code",
   "execution_count": null,
   "id": "846ee1b0",
   "metadata": {},
   "outputs": [],
   "source": []
  }
 ],
 "metadata": {
  "kernelspec": {
   "display_name": "Python 3 (ipykernel)",
   "language": "python",
   "name": "python3"
  },
  "language_info": {
   "codemirror_mode": {
    "name": "ipython",
    "version": 3
   },
   "file_extension": ".py",
   "mimetype": "text/x-python",
   "name": "python",
   "nbconvert_exporter": "python",
   "pygments_lexer": "ipython3",
   "version": "3.10.9"
  }
 },
 "nbformat": 4,
 "nbformat_minor": 5
}
