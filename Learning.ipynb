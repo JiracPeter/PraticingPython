{
 "cells": [
  {
   "cell_type": "code",
   "execution_count": 1,
   "id": "7c914ccc",
   "metadata": {},
   "outputs": [],
   "source": [
    "my_dict = {\n",
    "    \"k1\":'jirac',\n",
    "    'k2':'peter',\n",
    "    'k3':'son'\n",
    "}"
   ]
  },
  {
   "cell_type": "code",
   "execution_count": 2,
   "id": "d20ce7fa",
   "metadata": {},
   "outputs": [
    {
     "name": "stdout",
     "output_type": "stream",
     "text": [
      "{'k1': 'jirac', 'k2': 'peter', 'k3': 'son'}\n"
     ]
    }
   ],
   "source": [
    "print(my_dict)"
   ]
  },
  {
   "cell_type": "code",
   "execution_count": 3,
   "id": "a886862d",
   "metadata": {},
   "outputs": [],
   "source": [
    "my_dict['k4'] = 'Enma'"
   ]
  },
  {
   "cell_type": "code",
   "execution_count": 4,
   "id": "1559bec3",
   "metadata": {},
   "outputs": [
    {
     "name": "stdout",
     "output_type": "stream",
     "text": [
      "{'k1': 'jirac', 'k2': 'peter', 'k3': 'son', 'k4': 'Enma'}\n"
     ]
    }
   ],
   "source": [
    "print(my_dict)"
   ]
  },
  {
   "cell_type": "code",
   "execution_count": 5,
   "id": "0e2e3f1b",
   "metadata": {},
   "outputs": [
    {
     "data": {
      "text/plain": [
       "dict_items([('k1', 'jirac'), ('k2', 'peter'), ('k3', 'son'), ('k4', 'Enma')])"
      ]
     },
     "execution_count": 5,
     "metadata": {},
     "output_type": "execute_result"
    }
   ],
   "source": [
    "my_dict.items()"
   ]
  },
  {
   "cell_type": "code",
   "execution_count": 6,
   "id": "9771b6ec",
   "metadata": {},
   "outputs": [
    {
     "data": {
      "text/plain": [
       "dict_keys(['k1', 'k2', 'k3', 'k4'])"
      ]
     },
     "execution_count": 6,
     "metadata": {},
     "output_type": "execute_result"
    }
   ],
   "source": [
    "my_dict.keys()"
   ]
  },
  {
   "cell_type": "code",
   "execution_count": 7,
   "id": "c53b896f",
   "metadata": {},
   "outputs": [],
   "source": [
    "del my_dict['k1']"
   ]
  },
  {
   "cell_type": "code",
   "execution_count": 8,
   "id": "218ea7f9",
   "metadata": {},
   "outputs": [
    {
     "data": {
      "text/plain": [
       "{'k2': 'peter', 'k3': 'son', 'k4': 'Enma'}"
      ]
     },
     "execution_count": 8,
     "metadata": {},
     "output_type": "execute_result"
    }
   ],
   "source": [
    "my_dict"
   ]
  },
  {
   "cell_type": "code",
   "execution_count": 65,
   "id": "0c16c6f3",
   "metadata": {},
   "outputs": [
    {
     "name": "stdout",
     "output_type": "stream",
     "text": [
      "Overwriting my_file.txt\n"
     ]
    }
   ],
   "source": [
    "%%writefile my_file.txt\n",
    "this is a text sample file\n",
    "this is a first line of this file\n",
    "this is a second line of the file\n",
    "this is a third line of the file"
   ]
  },
  {
   "cell_type": "code",
   "execution_count": 12,
   "id": "3da95433",
   "metadata": {},
   "outputs": [],
   "source": [
    "my_files = open('my_file.txt')"
   ]
  },
  {
   "cell_type": "code",
   "execution_count": 13,
   "id": "d1d62ad5",
   "metadata": {},
   "outputs": [
    {
     "data": {
      "text/plain": [
       "<_io.TextIOWrapper name='my_file.txt' mode='r' encoding='cp1252'>"
      ]
     },
     "execution_count": 13,
     "metadata": {},
     "output_type": "execute_result"
    }
   ],
   "source": [
    "my_files"
   ]
  },
  {
   "cell_type": "code",
   "execution_count": 14,
   "id": "a79c089f",
   "metadata": {},
   "outputs": [
    {
     "data": {
      "text/plain": [
       "'C:\\\\Users\\\\hp\\\\Downloads\\\\JavaTpoint'"
      ]
     },
     "execution_count": 14,
     "metadata": {},
     "output_type": "execute_result"
    }
   ],
   "source": [
    "pwd"
   ]
  },
  {
   "cell_type": "code",
   "execution_count": 15,
   "id": "a583c92b",
   "metadata": {},
   "outputs": [
    {
     "data": {
      "text/plain": [
       "'this is a text sample file\\nthis is a first line of this file\\nthis is a second line of the file\\nthis is a third line of the file\\n'"
      ]
     },
     "execution_count": 15,
     "metadata": {},
     "output_type": "execute_result"
    }
   ],
   "source": [
    "my_files.read()"
   ]
  },
  {
   "cell_type": "code",
   "execution_count": 16,
   "id": "411ece20",
   "metadata": {},
   "outputs": [
    {
     "data": {
      "text/plain": [
       "''"
      ]
     },
     "execution_count": 16,
     "metadata": {},
     "output_type": "execute_result"
    }
   ],
   "source": [
    "my_files.read()"
   ]
  },
  {
   "cell_type": "code",
   "execution_count": 17,
   "id": "0e8d05ac",
   "metadata": {},
   "outputs": [
    {
     "data": {
      "text/plain": [
       "0"
      ]
     },
     "execution_count": 17,
     "metadata": {},
     "output_type": "execute_result"
    }
   ],
   "source": [
    "my_files.seek(0)"
   ]
  },
  {
   "cell_type": "code",
   "execution_count": 18,
   "id": "7d777d96",
   "metadata": {},
   "outputs": [
    {
     "data": {
      "text/plain": [
       "'this is a text sample file\\nthis is a first line of this file\\nthis is a second line of the file\\nthis is a third line of the file\\n'"
      ]
     },
     "execution_count": 18,
     "metadata": {},
     "output_type": "execute_result"
    }
   ],
   "source": [
    "my_files.read()"
   ]
  },
  {
   "cell_type": "code",
   "execution_count": 20,
   "id": "41712609",
   "metadata": {},
   "outputs": [],
   "source": [
    "with open('my_file.txt') as my_files_text:\n",
    "    content = my_files_text.read()"
   ]
  },
  {
   "cell_type": "code",
   "execution_count": 21,
   "id": "510dd928",
   "metadata": {},
   "outputs": [
    {
     "data": {
      "text/plain": [
       "'this is a text sample file\\nthis is a first line of this file\\nthis is a second line of the file\\nthis is a third line of the file\\n'"
      ]
     },
     "execution_count": 21,
     "metadata": {},
     "output_type": "execute_result"
    }
   ],
   "source": [
    "content"
   ]
  },
  {
   "cell_type": "code",
   "execution_count": 22,
   "id": "ee88a763",
   "metadata": {},
   "outputs": [],
   "source": [
    "with open('Files.txt',mode='w') as f:\n",
    "    f.write('I\"m RoronaZoro')"
   ]
  },
  {
   "cell_type": "code",
   "execution_count": 23,
   "id": "eae2e4a1",
   "metadata": {},
   "outputs": [
    {
     "name": "stdout",
     "output_type": "stream",
     "text": [
      "I\"m RoronaZoro\n"
     ]
    }
   ],
   "source": [
    "with open('Files.txt',mode='r') as f:\n",
    "    print(f.read())"
   ]
  },
  {
   "cell_type": "code",
   "execution_count": 27,
   "id": "c6879800",
   "metadata": {},
   "outputs": [
    {
     "name": "stdout",
     "output_type": "stream",
     "text": [
      "k1\n",
      "k2\n",
      "k3\n"
     ]
    }
   ],
   "source": [
    "d = {'k1':1,'k2':2,'k3':3}\n",
    "for i,j in d.items():\n",
    "    print(i)"
   ]
  },
  {
   "cell_type": "code",
   "execution_count": 31,
   "id": "5331dffb",
   "metadata": {},
   "outputs": [
    {
     "name": "stdout",
     "output_type": "stream",
     "text": [
      "2 3\n",
      "5 6\n",
      "8 9\n"
     ]
    }
   ],
   "source": [
    "l = [(1,2,3),(4,5,6),(7,8,9)]\n",
    "\n",
    "for i,j,k in l:\n",
    "    print(j,k)"
   ]
  },
  {
   "cell_type": "code",
   "execution_count": 32,
   "id": "24029cda",
   "metadata": {},
   "outputs": [],
   "source": [
    "my_list = [1,2,3,4,5]\n",
    "\n",
    "suq_list = []\n",
    "\n",
    "for i in my_list:\n",
    "    suq_list.append(i**2)"
   ]
  },
  {
   "cell_type": "code",
   "execution_count": 33,
   "id": "12466f32",
   "metadata": {},
   "outputs": [
    {
     "data": {
      "text/plain": [
       "[1, 4, 9, 16, 25]"
      ]
     },
     "execution_count": 33,
     "metadata": {},
     "output_type": "execute_result"
    }
   ],
   "source": [
    "suq_list"
   ]
  },
  {
   "cell_type": "code",
   "execution_count": 34,
   "id": "875f966c",
   "metadata": {},
   "outputs": [],
   "source": [
    "suq1_list = [x**2 for x in my_list]"
   ]
  },
  {
   "cell_type": "code",
   "execution_count": 35,
   "id": "a47279f2",
   "metadata": {},
   "outputs": [
    {
     "data": {
      "text/plain": [
       "[1, 4, 9, 16, 25]"
      ]
     },
     "execution_count": 35,
     "metadata": {},
     "output_type": "execute_result"
    }
   ],
   "source": [
    "suq1_list"
   ]
  },
  {
   "cell_type": "code",
   "execution_count": 40,
   "id": "89d5525f",
   "metadata": {},
   "outputs": [],
   "source": [
    "range_list = [x**2 for x in range(1,11)]"
   ]
  },
  {
   "cell_type": "code",
   "execution_count": 41,
   "id": "671ebe11",
   "metadata": {},
   "outputs": [
    {
     "data": {
      "text/plain": [
       "[1, 4, 9, 16, 25, 36, 49, 64, 81, 100]"
      ]
     },
     "execution_count": 41,
     "metadata": {},
     "output_type": "execute_result"
    }
   ],
   "source": [
    "range_list"
   ]
  },
  {
   "cell_type": "code",
   "execution_count": 42,
   "id": "df7b87b8",
   "metadata": {},
   "outputs": [],
   "source": [
    "if_list = [x for x in range(1,11) if x%2==0]"
   ]
  },
  {
   "cell_type": "code",
   "execution_count": 43,
   "id": "e556ea24",
   "metadata": {},
   "outputs": [
    {
     "data": {
      "text/plain": [
       "[2, 4, 6, 8, 10]"
      ]
     },
     "execution_count": 43,
     "metadata": {},
     "output_type": "execute_result"
    }
   ],
   "source": [
    "if_list"
   ]
  },
  {
   "cell_type": "code",
   "execution_count": 48,
   "id": "af3566d0",
   "metadata": {},
   "outputs": [],
   "source": [
    "if1_list = [x**2 for x in if_list]"
   ]
  },
  {
   "cell_type": "code",
   "execution_count": 49,
   "id": "5393534e",
   "metadata": {},
   "outputs": [
    {
     "data": {
      "text/plain": [
       "[4, 16, 36, 64, 100]"
      ]
     },
     "execution_count": 49,
     "metadata": {},
     "output_type": "execute_result"
    }
   ],
   "source": [
    "if1_list"
   ]
  },
  {
   "cell_type": "code",
   "execution_count": 59,
   "id": "d205fbaa",
   "metadata": {},
   "outputs": [],
   "source": [
    "if_else_list = [x if x%2==0 else 'ODD NUM'  for x in range(1,11)]"
   ]
  },
  {
   "cell_type": "code",
   "execution_count": 60,
   "id": "7bf558cf",
   "metadata": {},
   "outputs": [
    {
     "data": {
      "text/plain": [
       "['ODD NUM', 2, 'ODD NUM', 4, 'ODD NUM', 6, 'ODD NUM', 8, 'ODD NUM', 10]"
      ]
     },
     "execution_count": 60,
     "metadata": {},
     "output_type": "execute_result"
    }
   ],
   "source": [
    "if_else_list"
   ]
  },
  {
   "cell_type": "code",
   "execution_count": 61,
   "id": "cf66cf72",
   "metadata": {},
   "outputs": [],
   "source": [
    "my_list = []\n",
    "\n",
    "for x in [2,4,6]:\n",
    "    for y in [10,20,100]:\n",
    "        my_list.append(x*y)"
   ]
  },
  {
   "cell_type": "code",
   "execution_count": 62,
   "id": "c613be6c",
   "metadata": {},
   "outputs": [
    {
     "data": {
      "text/plain": [
       "[20, 40, 200, 40, 80, 400, 60, 120, 600]"
      ]
     },
     "execution_count": 62,
     "metadata": {},
     "output_type": "execute_result"
    }
   ],
   "source": [
    "my_list"
   ]
  },
  {
   "cell_type": "code",
   "execution_count": 63,
   "id": "b531ec1e",
   "metadata": {},
   "outputs": [],
   "source": [
    "nested_list = [x*y for x in [2,4,6] for y in [10,20,100]]"
   ]
  },
  {
   "cell_type": "code",
   "execution_count": 64,
   "id": "f2bc4f1d",
   "metadata": {},
   "outputs": [
    {
     "data": {
      "text/plain": [
       "[20, 40, 200, 40, 80, 400, 60, 120, 600]"
      ]
     },
     "execution_count": 64,
     "metadata": {},
     "output_type": "execute_result"
    }
   ],
   "source": [
    "nested_list"
   ]
  },
  {
   "cell_type": "code",
   "execution_count": 73,
   "id": "b4c85168",
   "metadata": {},
   "outputs": [],
   "source": [
    "employee = [('Zoro',8000),('Sanji',1000),('Luffy',4000),('Brook',10000)]\n",
    "\n",
    "def employees_score(employee):\n",
    "    employee_name = ''\n",
    "    employee_time = 0\n",
    "    for name,time in employee:\n",
    "        if time > employee_time:\n",
    "            employee_time = time\n",
    "            employee_name = name\n",
    "        else:\n",
    "            pass\n",
    "    return (employee_name,employee_time)\n",
    "            \n",
    "        "
   ]
  },
  {
   "cell_type": "code",
   "execution_count": 74,
   "id": "156272f1",
   "metadata": {},
   "outputs": [
    {
     "data": {
      "text/plain": [
       "('Brook', 10000)"
      ]
     },
     "execution_count": 74,
     "metadata": {},
     "output_type": "execute_result"
    }
   ],
   "source": [
    "employees_score(employee)"
   ]
  },
  {
   "cell_type": "code",
   "execution_count": null,
   "id": "f97bdb5c",
   "metadata": {},
   "outputs": [],
   "source": []
  }
 ],
 "metadata": {
  "kernelspec": {
   "display_name": "Python 3 (ipykernel)",
   "language": "python",
   "name": "python3"
  },
  "language_info": {
   "codemirror_mode": {
    "name": "ipython",
    "version": 3
   },
   "file_extension": ".py",
   "mimetype": "text/x-python",
   "name": "python",
   "nbconvert_exporter": "python",
   "pygments_lexer": "ipython3",
   "version": "3.10.9"
  }
 },
 "nbformat": 4,
 "nbformat_minor": 5
}
