{
 "cells": [
  {
   "cell_type": "code",
   "execution_count": 1,
   "id": "7c914ccc",
   "metadata": {},
   "outputs": [],
   "source": [
    "my_dict = {\n",
    "    \"k1\":'jirac',\n",
    "    'k2':'peter',\n",
    "    'k3':'son'\n",
    "}"
   ]
  },
  {
   "cell_type": "code",
   "execution_count": 2,
   "id": "d20ce7fa",
   "metadata": {},
   "outputs": [
    {
     "name": "stdout",
     "output_type": "stream",
     "text": [
      "{'k1': 'jirac', 'k2': 'peter', 'k3': 'son'}\n"
     ]
    }
   ],
   "source": [
    "print(my_dict)"
   ]
  },
  {
   "cell_type": "code",
   "execution_count": 3,
   "id": "a886862d",
   "metadata": {},
   "outputs": [],
   "source": [
    "my_dict['k4'] = 'Enma'"
   ]
  },
  {
   "cell_type": "code",
   "execution_count": 4,
   "id": "1559bec3",
   "metadata": {},
   "outputs": [
    {
     "name": "stdout",
     "output_type": "stream",
     "text": [
      "{'k1': 'jirac', 'k2': 'peter', 'k3': 'son', 'k4': 'Enma'}\n"
     ]
    }
   ],
   "source": [
    "print(my_dict)"
   ]
  },
  {
   "cell_type": "code",
   "execution_count": 5,
   "id": "0e2e3f1b",
   "metadata": {},
   "outputs": [
    {
     "data": {
      "text/plain": [
       "dict_items([('k1', 'jirac'), ('k2', 'peter'), ('k3', 'son'), ('k4', 'Enma')])"
      ]
     },
     "execution_count": 5,
     "metadata": {},
     "output_type": "execute_result"
    }
   ],
   "source": [
    "my_dict.items()"
   ]
  },
  {
   "cell_type": "code",
   "execution_count": 6,
   "id": "9771b6ec",
   "metadata": {},
   "outputs": [
    {
     "data": {
      "text/plain": [
       "dict_keys(['k1', 'k2', 'k3', 'k4'])"
      ]
     },
     "execution_count": 6,
     "metadata": {},
     "output_type": "execute_result"
    }
   ],
   "source": [
    "my_dict.keys()"
   ]
  },
  {
   "cell_type": "code",
   "execution_count": 7,
   "id": "c53b896f",
   "metadata": {},
   "outputs": [],
   "source": [
    "del my_dict['k1']"
   ]
  },
  {
   "cell_type": "code",
   "execution_count": 8,
   "id": "218ea7f9",
   "metadata": {},
   "outputs": [
    {
     "data": {
      "text/plain": [
       "{'k2': 'peter', 'k3': 'son', 'k4': 'Enma'}"
      ]
     },
     "execution_count": 8,
     "metadata": {},
     "output_type": "execute_result"
    }
   ],
   "source": [
    "my_dict"
   ]
  },
  {
   "cell_type": "code",
   "execution_count": 65,
   "id": "0c16c6f3",
   "metadata": {},
   "outputs": [
    {
     "name": "stdout",
     "output_type": "stream",
     "text": [
      "Overwriting my_file.txt\n"
     ]
    }
   ],
   "source": [
    "%%writefile my_file.txt\n",
    "this is a text sample file\n",
    "this is a first line of this file\n",
    "this is a second line of the file\n",
    "this is a third line of the file"
   ]
  },
  {
   "cell_type": "code",
   "execution_count": 12,
   "id": "3da95433",
   "metadata": {},
   "outputs": [],
   "source": [
    "my_files = open('my_file.txt')"
   ]
  },
  {
   "cell_type": "code",
   "execution_count": 13,
   "id": "d1d62ad5",
   "metadata": {},
   "outputs": [
    {
     "data": {
      "text/plain": [
       "<_io.TextIOWrapper name='my_file.txt' mode='r' encoding='cp1252'>"
      ]
     },
     "execution_count": 13,
     "metadata": {},
     "output_type": "execute_result"
    }
   ],
   "source": [
    "my_files"
   ]
  },
  {
   "cell_type": "code",
   "execution_count": 14,
   "id": "a79c089f",
   "metadata": {},
   "outputs": [
    {
     "data": {
      "text/plain": [
       "'C:\\\\Users\\\\hp\\\\Downloads\\\\JavaTpoint'"
      ]
     },
     "execution_count": 14,
     "metadata": {},
     "output_type": "execute_result"
    }
   ],
   "source": [
    "pwd"
   ]
  },
  {
   "cell_type": "code",
   "execution_count": 15,
   "id": "a583c92b",
   "metadata": {},
   "outputs": [
    {
     "data": {
      "text/plain": [
       "'this is a text sample file\\nthis is a first line of this file\\nthis is a second line of the file\\nthis is a third line of the file\\n'"
      ]
     },
     "execution_count": 15,
     "metadata": {},
     "output_type": "execute_result"
    }
   ],
   "source": [
    "my_files.read()"
   ]
  },
  {
   "cell_type": "code",
   "execution_count": 16,
   "id": "411ece20",
   "metadata": {},
   "outputs": [
    {
     "data": {
      "text/plain": [
       "''"
      ]
     },
     "execution_count": 16,
     "metadata": {},
     "output_type": "execute_result"
    }
   ],
   "source": [
    "my_files.read()"
   ]
  },
  {
   "cell_type": "code",
   "execution_count": 17,
   "id": "0e8d05ac",
   "metadata": {},
   "outputs": [
    {
     "data": {
      "text/plain": [
       "0"
      ]
     },
     "execution_count": 17,
     "metadata": {},
     "output_type": "execute_result"
    }
   ],
   "source": [
    "my_files.seek(0)"
   ]
  },
  {
   "cell_type": "code",
   "execution_count": 18,
   "id": "7d777d96",
   "metadata": {},
   "outputs": [
    {
     "data": {
      "text/plain": [
       "'this is a text sample file\\nthis is a first line of this file\\nthis is a second line of the file\\nthis is a third line of the file\\n'"
      ]
     },
     "execution_count": 18,
     "metadata": {},
     "output_type": "execute_result"
    }
   ],
   "source": [
    "my_files.read()"
   ]
  },
  {
   "cell_type": "code",
   "execution_count": 20,
   "id": "41712609",
   "metadata": {},
   "outputs": [],
   "source": [
    "with open('my_file.txt') as my_files_text:\n",
    "    content = my_files_text.read()"
   ]
  },
  {
   "cell_type": "code",
   "execution_count": 21,
   "id": "510dd928",
   "metadata": {},
   "outputs": [
    {
     "data": {
      "text/plain": [
       "'this is a text sample file\\nthis is a first line of this file\\nthis is a second line of the file\\nthis is a third line of the file\\n'"
      ]
     },
     "execution_count": 21,
     "metadata": {},
     "output_type": "execute_result"
    }
   ],
   "source": [
    "content"
   ]
  },
  {
   "cell_type": "code",
   "execution_count": 22,
   "id": "ee88a763",
   "metadata": {},
   "outputs": [],
   "source": [
    "with open('Files.txt',mode='w') as f:\n",
    "    f.write('I\"m RoronaZoro')"
   ]
  },
  {
   "cell_type": "code",
   "execution_count": 23,
   "id": "eae2e4a1",
   "metadata": {},
   "outputs": [
    {
     "name": "stdout",
     "output_type": "stream",
     "text": [
      "I\"m RoronaZoro\n"
     ]
    }
   ],
   "source": [
    "with open('Files.txt',mode='r') as f:\n",
    "    print(f.read())"
   ]
  },
  {
   "cell_type": "code",
   "execution_count": 27,
   "id": "c6879800",
   "metadata": {},
   "outputs": [
    {
     "name": "stdout",
     "output_type": "stream",
     "text": [
      "k1\n",
      "k2\n",
      "k3\n"
     ]
    }
   ],
   "source": [
    "d = {'k1':1,'k2':2,'k3':3}\n",
    "for i,j in d.items():\n",
    "    print(i)"
   ]
  },
  {
   "cell_type": "code",
   "execution_count": 31,
   "id": "5331dffb",
   "metadata": {},
   "outputs": [
    {
     "name": "stdout",
     "output_type": "stream",
     "text": [
      "2 3\n",
      "5 6\n",
      "8 9\n"
     ]
    }
   ],
   "source": [
    "l = [(1,2,3),(4,5,6),(7,8,9)]\n",
    "\n",
    "for i,j,k in l:\n",
    "    print(j,k)"
   ]
  },
  {
   "cell_type": "code",
   "execution_count": 32,
   "id": "24029cda",
   "metadata": {},
   "outputs": [],
   "source": [
    "my_list = [1,2,3,4,5]\n",
    "\n",
    "suq_list = []\n",
    "\n",
    "for i in my_list:\n",
    "    suq_list.append(i**2)"
   ]
  },
  {
   "cell_type": "code",
   "execution_count": 33,
   "id": "12466f32",
   "metadata": {},
   "outputs": [
    {
     "data": {
      "text/plain": [
       "[1, 4, 9, 16, 25]"
      ]
     },
     "execution_count": 33,
     "metadata": {},
     "output_type": "execute_result"
    }
   ],
   "source": [
    "suq_list"
   ]
  },
  {
   "cell_type": "code",
   "execution_count": 34,
   "id": "875f966c",
   "metadata": {},
   "outputs": [],
   "source": [
    "suq1_list = [x**2 for x in my_list]"
   ]
  },
  {
   "cell_type": "code",
   "execution_count": 35,
   "id": "a47279f2",
   "metadata": {},
   "outputs": [
    {
     "data": {
      "text/plain": [
       "[1, 4, 9, 16, 25]"
      ]
     },
     "execution_count": 35,
     "metadata": {},
     "output_type": "execute_result"
    }
   ],
   "source": [
    "suq1_list"
   ]
  },
  {
   "cell_type": "code",
   "execution_count": 40,
   "id": "89d5525f",
   "metadata": {},
   "outputs": [],
   "source": [
    "range_list = [x**2 for x in range(1,11)]"
   ]
  },
  {
   "cell_type": "code",
   "execution_count": 41,
   "id": "671ebe11",
   "metadata": {},
   "outputs": [
    {
     "data": {
      "text/plain": [
       "[1, 4, 9, 16, 25, 36, 49, 64, 81, 100]"
      ]
     },
     "execution_count": 41,
     "metadata": {},
     "output_type": "execute_result"
    }
   ],
   "source": [
    "range_list"
   ]
  },
  {
   "cell_type": "code",
   "execution_count": 42,
   "id": "df7b87b8",
   "metadata": {},
   "outputs": [],
   "source": [
    "if_list = [x for x in range(1,11) if x%2==0]"
   ]
  },
  {
   "cell_type": "code",
   "execution_count": 43,
   "id": "e556ea24",
   "metadata": {},
   "outputs": [
    {
     "data": {
      "text/plain": [
       "[2, 4, 6, 8, 10]"
      ]
     },
     "execution_count": 43,
     "metadata": {},
     "output_type": "execute_result"
    }
   ],
   "source": [
    "if_list"
   ]
  },
  {
   "cell_type": "code",
   "execution_count": 48,
   "id": "af3566d0",
   "metadata": {},
   "outputs": [],
   "source": [
    "if1_list = [x**2 for x in if_list]"
   ]
  },
  {
   "cell_type": "code",
   "execution_count": 49,
   "id": "5393534e",
   "metadata": {},
   "outputs": [
    {
     "data": {
      "text/plain": [
       "[4, 16, 36, 64, 100]"
      ]
     },
     "execution_count": 49,
     "metadata": {},
     "output_type": "execute_result"
    }
   ],
   "source": [
    "if1_list"
   ]
  },
  {
   "cell_type": "code",
   "execution_count": 59,
   "id": "d205fbaa",
   "metadata": {},
   "outputs": [],
   "source": [
    "if_else_list = [x if x%2==0 else 'ODD NUM'  for x in range(1,11)]"
   ]
  },
  {
   "cell_type": "code",
   "execution_count": 60,
   "id": "7bf558cf",
   "metadata": {},
   "outputs": [
    {
     "data": {
      "text/plain": [
       "['ODD NUM', 2, 'ODD NUM', 4, 'ODD NUM', 6, 'ODD NUM', 8, 'ODD NUM', 10]"
      ]
     },
     "execution_count": 60,
     "metadata": {},
     "output_type": "execute_result"
    }
   ],
   "source": [
    "if_else_list"
   ]
  },
  {
   "cell_type": "markdown",
   "id": "558a6a99",
   "metadata": {},
   "source": [
    "# (28/09/2023)"
   ]
  },
  {
   "cell_type": "code",
   "execution_count": 61,
   "id": "cf66cf72",
   "metadata": {},
   "outputs": [],
   "source": [
    "my_list = []\n",
    "\n",
    "for x in [2,4,6]:\n",
    "    for y in [10,20,100]:\n",
    "        my_list.append(x*y)"
   ]
  },
  {
   "cell_type": "code",
   "execution_count": 62,
   "id": "c613be6c",
   "metadata": {},
   "outputs": [
    {
     "data": {
      "text/plain": [
       "[20, 40, 200, 40, 80, 400, 60, 120, 600]"
      ]
     },
     "execution_count": 62,
     "metadata": {},
     "output_type": "execute_result"
    }
   ],
   "source": [
    "my_list"
   ]
  },
  {
   "cell_type": "code",
   "execution_count": 63,
   "id": "b531ec1e",
   "metadata": {},
   "outputs": [],
   "source": [
    "nested_list = [x*y for x in [2,4,6] for y in [10,20,100]]"
   ]
  },
  {
   "cell_type": "code",
   "execution_count": 64,
   "id": "f2bc4f1d",
   "metadata": {},
   "outputs": [
    {
     "data": {
      "text/plain": [
       "[20, 40, 200, 40, 80, 400, 60, 120, 600]"
      ]
     },
     "execution_count": 64,
     "metadata": {},
     "output_type": "execute_result"
    }
   ],
   "source": [
    "nested_list"
   ]
  },
  {
   "cell_type": "code",
   "execution_count": 73,
   "id": "b4c85168",
   "metadata": {},
   "outputs": [],
   "source": [
    "employee = [('Zoro',8000),('Sanji',1000),('Luffy',4000),('Brook',10000)]\n",
    "\n",
    "def employees_score(employee):\n",
    "    employee_name = ''\n",
    "    employee_time = 0\n",
    "    for name,time in employee:\n",
    "        if time > employee_time:\n",
    "            employee_time = time\n",
    "            employee_name = name\n",
    "        else:\n",
    "            pass\n",
    "    return (employee_name,employee_time)\n",
    "            \n",
    "        "
   ]
  },
  {
   "cell_type": "code",
   "execution_count": 74,
   "id": "156272f1",
   "metadata": {},
   "outputs": [
    {
     "data": {
      "text/plain": [
       "('Brook', 10000)"
      ]
     },
     "execution_count": 74,
     "metadata": {},
     "output_type": "execute_result"
    }
   ],
   "source": [
    "employees_score(employee)"
   ]
  },
  {
   "cell_type": "markdown",
   "id": "e8de25a3",
   "metadata": {},
   "source": [
    "SUMMER OF '69: Return the sum of the numbers in the array, except ignore sections of numbers starting with a 6 and extending to the next 9 (every 6 will be followed by at least one 9). Return 0 for no numbers.\n",
    "summer_69([1, 3, 5]) --> 9\n",
    "summer_69([4, 5, 6, 7, 8, 9]) --> 9\n",
    "summer_69([2, 1, 6, 9, 11]) --> 14"
   ]
  },
  {
   "cell_type": "code",
   "execution_count": 1,
   "id": "963bb2d4",
   "metadata": {},
   "outputs": [],
   "source": [
    "def summer_69(arr):\n",
    "    total = 0\n",
    "    add = True\n",
    "    for num in arr:\n",
    "        while add:\n",
    "            if num!=6:\n",
    "                total+=num\n",
    "                break\n",
    "            else:\n",
    "                add = False\n",
    "        while not add:\n",
    "            if num!=9:\n",
    "                break\n",
    "            else:\n",
    "                add = True\n",
    "                break\n",
    "    return total"
   ]
  },
  {
   "cell_type": "code",
   "execution_count": 2,
   "id": "b333e321",
   "metadata": {},
   "outputs": [
    {
     "data": {
      "text/plain": [
       "9"
      ]
     },
     "execution_count": 2,
     "metadata": {},
     "output_type": "execute_result"
    }
   ],
   "source": [
    "summer_69([1, 3, 5])"
   ]
  },
  {
   "cell_type": "code",
   "execution_count": 3,
   "id": "765cebfe",
   "metadata": {},
   "outputs": [
    {
     "data": {
      "text/plain": [
       "9"
      ]
     },
     "execution_count": 3,
     "metadata": {},
     "output_type": "execute_result"
    }
   ],
   "source": [
    "summer_69([4, 5, 6, 7, 8, 9])"
   ]
  },
  {
   "cell_type": "code",
   "execution_count": 4,
   "id": "de87dcd2",
   "metadata": {},
   "outputs": [
    {
     "data": {
      "text/plain": [
       "14"
      ]
     },
     "execution_count": 4,
     "metadata": {},
     "output_type": "execute_result"
    }
   ],
   "source": [
    "summer_69([2, 1, 6, 9, 11])"
   ]
  },
  {
   "cell_type": "markdown",
   "id": "2359a2e3",
   "metadata": {},
   "source": [
    "Lambda Function , Map and Filter"
   ]
  },
  {
   "cell_type": "code",
   "execution_count": 5,
   "id": "cbb8cb00",
   "metadata": {},
   "outputs": [],
   "source": [
    "def square(num):\n",
    "    return num**2"
   ]
  },
  {
   "cell_type": "code",
   "execution_count": 6,
   "id": "90c97ac5",
   "metadata": {},
   "outputs": [
    {
     "data": {
      "text/plain": [
       "16"
      ]
     },
     "execution_count": 6,
     "metadata": {},
     "output_type": "execute_result"
    }
   ],
   "source": [
    "square(4)"
   ]
  },
  {
   "cell_type": "code",
   "execution_count": 7,
   "id": "a49996b5",
   "metadata": {},
   "outputs": [],
   "source": [
    "my_list=[1,2,3,4,5]"
   ]
  },
  {
   "cell_type": "code",
   "execution_count": 9,
   "id": "a6fe911f",
   "metadata": {},
   "outputs": [
    {
     "data": {
      "text/plain": [
       "[1, 4, 9, 16, 25]"
      ]
     },
     "execution_count": 9,
     "metadata": {},
     "output_type": "execute_result"
    }
   ],
   "source": [
    "list(map(square,my_list))"
   ]
  },
  {
   "cell_type": "code",
   "execution_count": 10,
   "id": "1926e675",
   "metadata": {},
   "outputs": [
    {
     "data": {
      "text/plain": [
       "[1, 4, 9, 16, 25]"
      ]
     },
     "execution_count": 10,
     "metadata": {},
     "output_type": "execute_result"
    }
   ],
   "source": [
    "list(map(lambda num:num**2,my_list))"
   ]
  },
  {
   "cell_type": "code",
   "execution_count": 11,
   "id": "cf6a5832",
   "metadata": {},
   "outputs": [],
   "source": [
    "def even_num(num):\n",
    "    if num%2==0:\n",
    "        return True\n",
    "    else:\n",
    "        return False"
   ]
  },
  {
   "cell_type": "code",
   "execution_count": 13,
   "id": "0e6e39ec",
   "metadata": {},
   "outputs": [
    {
     "data": {
      "text/plain": [
       "False"
      ]
     },
     "execution_count": 13,
     "metadata": {},
     "output_type": "execute_result"
    }
   ],
   "source": [
    "even_num(9)"
   ]
  },
  {
   "cell_type": "code",
   "execution_count": 14,
   "id": "1e448db8",
   "metadata": {},
   "outputs": [],
   "source": [
    "my_list = [2,3,4,9,8,13]"
   ]
  },
  {
   "cell_type": "code",
   "execution_count": 15,
   "id": "4f3cfbd3",
   "metadata": {},
   "outputs": [
    {
     "data": {
      "text/plain": [
       "[2, 4, 8]"
      ]
     },
     "execution_count": 15,
     "metadata": {},
     "output_type": "execute_result"
    }
   ],
   "source": [
    "list(filter(even_num,my_list))"
   ]
  },
  {
   "cell_type": "code",
   "execution_count": 17,
   "id": "4516e6a8",
   "metadata": {},
   "outputs": [
    {
     "data": {
      "text/plain": [
       "[2, 4, 8]"
      ]
     },
     "execution_count": 17,
     "metadata": {},
     "output_type": "execute_result"
    }
   ],
   "source": [
    "list(filter(lambda num : num%2==0,my_list))"
   ]
  },
  {
   "cell_type": "markdown",
   "id": "241a585e",
   "metadata": {},
   "source": [
    "# Functions and Methods Homework \n",
    "\n",
    "Complete the following questions:\n",
    "____\n",
    "**Write a function that computes the volume of a sphere given its radius.**\n",
    "<p>The volume of a sphere is given as $$\\frac{4}{3} πr^3$$</p>"
   ]
  },
  {
   "cell_type": "code",
   "execution_count": 58,
   "id": "995a7efd",
   "metadata": {},
   "outputs": [],
   "source": [
    "def vol(rad):\n",
    "    return (4/3)*(3.14)*(rad**3)"
   ]
  },
  {
   "cell_type": "code",
   "execution_count": 59,
   "id": "e25cbf2c",
   "metadata": {},
   "outputs": [
    {
     "data": {
      "text/plain": [
       "33.49333333333333"
      ]
     },
     "execution_count": 59,
     "metadata": {},
     "output_type": "execute_result"
    }
   ],
   "source": [
    "vol(2)"
   ]
  },
  {
   "cell_type": "markdown",
   "id": "998e27b6",
   "metadata": {},
   "source": [
    "___\n",
    "**Write a function that checks whether a number is in a given range (inclusive of high and low)**"
   ]
  },
  {
   "cell_type": "code",
   "execution_count": 62,
   "id": "965dde1f",
   "metadata": {},
   "outputs": [],
   "source": [
    "def find_range(num,low,high):\n",
    "    if num in range(low,high+1):\n",
    "        print(f'{num} in the range of {low} and {high}')\n",
    "    else :\n",
    "        print('Not in the range')"
   ]
  },
  {
   "cell_type": "code",
   "execution_count": 66,
   "id": "d20a9989",
   "metadata": {},
   "outputs": [
    {
     "name": "stdout",
     "output_type": "stream",
     "text": [
      "6 in the range of 5 and 7\n"
     ]
    }
   ],
   "source": [
    "find_range(6,5,7)"
   ]
  },
  {
   "cell_type": "markdown",
   "id": "2b86877c",
   "metadata": {},
   "source": [
    "____\n",
    "**Write a Python function that accepts a string and calculates the number of upper case letters and lower case letters.**\n",
    "\n",
    "    Sample String : 'Hello Mr. Rogers, how are you this fine Tuesday?'\n",
    "    Expected Output : \n",
    "    No. of Upper case characters : 4\n",
    "    No. of Lower case Characters : 33\n",
    "\n",
    "HINT: Two string methods that might prove useful: **.isupper()** and **.islower()**\n",
    "\n",
    "If you feel ambitious, explore the Collections module to solve this problem!"
   ]
  },
  {
   "cell_type": "code",
   "execution_count": 93,
   "id": "6054ead9",
   "metadata": {},
   "outputs": [],
   "source": [
    "def count_letters(s):\n",
    "    uppercase = 0\n",
    "    lowercase = 0\n",
    "    for char in s:   \n",
    "        if char.isupper():\n",
    "            uppercase+=1\n",
    "        elif char.islower():\n",
    "            lowercase+=1\n",
    "        else:\n",
    "            pass\n",
    "\n",
    "    print(f\"The Original String {s}\")\n",
    "    print(f'The No.of Uppercase are {uppercase}')\n",
    "    print(f'The No.of Lowercase are {lowercase}')"
   ]
  },
  {
   "cell_type": "code",
   "execution_count": 94,
   "id": "49591849",
   "metadata": {},
   "outputs": [
    {
     "name": "stdout",
     "output_type": "stream",
     "text": [
      "The Original String Hello Mr. Rogers, how are you this fine Tuesday?\n",
      "The No.of Uppercase are 4\n",
      "The No.of Lowercase are 33\n"
     ]
    }
   ],
   "source": [
    "my_str = 'Hello Mr. Rogers, how are you this fine Tuesday?'\n",
    "count_letters(my_str)"
   ]
  },
  {
   "cell_type": "code",
   "execution_count": 102,
   "id": "0541bbc7",
   "metadata": {},
   "outputs": [],
   "source": [
    "def count_let(s):\n",
    "    d ={'upper':0,'lower':0}\n",
    "    for char in s:   \n",
    "        if char.isupper():\n",
    "            d['upper']+=1\n",
    "        elif char.islower():\n",
    "            d['lower']+=1\n",
    "        else:\n",
    "            pass\n",
    "\n",
    "    print(f\"The Original String {s}\")\n",
    "    print(f'The No.of Uppercase are {d[\"upper\"]}')\n",
    "    print(f'The No.of Lowercase are {d[\"lower\"]}')"
   ]
  },
  {
   "cell_type": "code",
   "execution_count": 103,
   "id": "d894ab0f",
   "metadata": {},
   "outputs": [
    {
     "name": "stdout",
     "output_type": "stream",
     "text": [
      "The Original String Hello Mr. Rogers, how are you this fine Tuesday?\n",
      "The No.of Uppercase are 4\n",
      "The No.of Lowercase are 33\n"
     ]
    }
   ],
   "source": [
    "my_str1 = 'Hello Mr. Rogers, how are you this fine Tuesday?'\n",
    "count_let(my_str)"
   ]
  },
  {
   "cell_type": "markdown",
   "id": "437ebed7",
   "metadata": {},
   "source": [
    "Write a Python function that takes a list and returns a new list with unique elements of the first list.\n",
    "\n",
    "Sample List : [1,1,1,1,2,2,3,3,3,3,4,5]\n",
    "Unique List : [1, 2, 3, 4, 5]"
   ]
  },
  {
   "cell_type": "code",
   "execution_count": 123,
   "id": "aebb4fb2",
   "metadata": {},
   "outputs": [],
   "source": [
    "def unique_num(num):\n",
    "    seen_number = []\n",
    "    \n",
    "    for i in num:\n",
    "        if i not in seen_number:\n",
    "            seen_number.append(i)\n",
    "    return seen_number        "
   ]
  },
  {
   "cell_type": "code",
   "execution_count": 124,
   "id": "310ea9bb",
   "metadata": {},
   "outputs": [
    {
     "data": {
      "text/plain": [
       "[1, 2, 3, 4, 5]"
      ]
     },
     "execution_count": 124,
     "metadata": {},
     "output_type": "execute_result"
    }
   ],
   "source": [
    "sample_list = [1,1,1,1,2,2,3,3,3,3,4,5]\n",
    "unique_num(sample_list)"
   ]
  },
  {
   "cell_type": "markdown",
   "id": "d5f17710",
   "metadata": {},
   "source": [
    "Write a Python function to multiply all the numbers in a list.\n",
    "\n",
    "Sample List : [1, 2, 3, -4]\n",
    "Expected Output : -24"
   ]
  },
  {
   "cell_type": "code",
   "execution_count": 127,
   "id": "67a0fd8d",
   "metadata": {},
   "outputs": [],
   "source": [
    "def multi(num):\n",
    "    total = 1\n",
    "    for i in num:\n",
    "        total *= i\n",
    "    return total    "
   ]
  },
  {
   "cell_type": "code",
   "execution_count": 130,
   "id": "27b3acec",
   "metadata": {},
   "outputs": [
    {
     "data": {
      "text/plain": [
       "-24"
      ]
     },
     "execution_count": 130,
     "metadata": {},
     "output_type": "execute_result"
    }
   ],
   "source": [
    "my_list = [1,2,3,-4]\n",
    "\n",
    "multi(my_list)"
   ]
  },
  {
   "cell_type": "markdown",
   "id": "88fc1821",
   "metadata": {},
   "source": [
    "____\n",
    "**Write a Python function that checks whether a word or phrase is palindrome or not.**\n",
    "\n",
    "Note: A palindrome is word, phrase, or sequence that reads the same backward as forward, e.g., madam,kayak,racecar, or a phrase \"nurses run\". Hint: You may want to check out the .replace() method in a string to help out with dealing with spaces. Also google search how to reverse a string in Python, there are some clever ways to do it with slicing notation."
   ]
  },
  {
   "cell_type": "code",
   "execution_count": 131,
   "id": "1ffeadcd",
   "metadata": {},
   "outputs": [],
   "source": [
    "def panlindrom(lst):\n",
    "    s = lst.replace(' ','')\n",
    "    return s == s[::-1]"
   ]
  },
  {
   "cell_type": "code",
   "execution_count": 135,
   "id": "a2d7e895",
   "metadata": {},
   "outputs": [
    {
     "data": {
      "text/plain": [
       "True"
      ]
     },
     "execution_count": 135,
     "metadata": {},
     "output_type": "execute_result"
    }
   ],
   "source": [
    "panlindrom('nurses run')"
   ]
  },
  {
   "cell_type": "code",
   "execution_count": 136,
   "id": "54e559b2",
   "metadata": {},
   "outputs": [
    {
     "data": {
      "text/plain": [
       "True"
      ]
     },
     "execution_count": 136,
     "metadata": {},
     "output_type": "execute_result"
    }
   ],
   "source": [
    "panlindrom('madam')"
   ]
  },
  {
   "cell_type": "markdown",
   "id": "4048ccf0",
   "metadata": {},
   "source": [
    "# (29/09/2023)"
   ]
  },
  {
   "cell_type": "markdown",
   "id": "be4a9b37",
   "metadata": {},
   "source": [
    "____\n",
    "#### Hard:\n",
    "\n",
    "**Write a Python function to check whether a string is pangram or not. (Assume the string passed in does not have any punctuation)**\n",
    "\n",
    "    Note : Pangrams are words or sentences containing every letter of the alphabet at least once.\n",
    "    For example : \"The quick brown fox jumps over the lazy dog\"\n",
    "\n",
    "Hint: You may want to use .replace() method to get rid of spaces.\n",
    "\n",
    "Hint: Look at the [string module](https://stackoverflow.com/questions/16060899/alphabet-range-in-python)\n",
    "\n",
    "Hint: In case you want to use [set comparisons](https://medium.com/better-programming/a-visual-guide-to-set-comparisons-in-python-6ab7edb9ec41)"
   ]
  },
  {
   "cell_type": "code",
   "execution_count": 36,
   "id": "a1d46bab",
   "metadata": {},
   "outputs": [],
   "source": [
    "import string\n",
    "def in_pangram(str1,alphabet=string.ascii_lowercase):\n",
    "    alphabet = set(alphabet)\n",
    "    \n",
    "    str1 = str1.replace(' ','')\n",
    "    \n",
    "    str1 = str1.lower()\n",
    "    \n",
    "    str1 = set(str1)\n",
    "    \n",
    "    print(str1,alphabet)\n",
    "    return str1 == alphabet"
   ]
  },
  {
   "cell_type": "code",
   "execution_count": 37,
   "id": "39429298",
   "metadata": {},
   "outputs": [
    {
     "name": "stdout",
     "output_type": "stream",
     "text": [
      "{'l', 'p', 'v', 'i', 't', 'w', 'o', 'm', 'x', 'y', 'q', 'k', 'n', 's', 'd', 'c', 'g', 'e', 'z', 'j', 'u', 'h', 'b', 'f', 'r', 'a'} {'l', 'p', 'v', 'i', 't', 'w', 'o', 'm', 'x', 'y', 'q', 'k', 'n', 's', 'd', 'c', 'g', 'e', 'z', 'j', 'u', 'h', 'b', 'f', 'r', 'a'}\n"
     ]
    },
    {
     "data": {
      "text/plain": [
       "True"
      ]
     },
     "execution_count": 37,
     "metadata": {},
     "output_type": "execute_result"
    }
   ],
   "source": [
    "my_string = \"The quick brown fox jumps over the lazy dog\"\n",
    "in_pangram(my_string)"
   ]
  },
  {
   "cell_type": "code",
   "execution_count": 1,
   "id": "5c467e63",
   "metadata": {},
   "outputs": [],
   "source": [
    "def user_choice():\n",
    "    choice = 'Wrong'\n",
    "    accect_values = range(0,10+1)\n",
    "    within_range = False\n",
    "    \n",
    "    \n",
    "    while choice.isdigit() == False or within_range == False:\n",
    "        choice = input('Enter a value (1-10) : ')\n",
    "        if choice.isdigit() == False:\n",
    "            print('Invalid input Enter a valid input')\n",
    "        \n",
    "        if choice.isdigit() == True:\n",
    "            if int(choice) in accect_values:\n",
    "                within_range = True\n",
    "            else:\n",
    "                print('Enter a value Between 1-10')\n",
    "    return int(choice)    "
   ]
  },
  {
   "cell_type": "code",
   "execution_count": 2,
   "id": "74380191",
   "metadata": {},
   "outputs": [
    {
     "name": "stdout",
     "output_type": "stream",
     "text": [
      "Enter a value (1-10) : 23\n",
      "Enter a value Between 1-10\n",
      "Enter a value (1-10) : rer\n",
      "Invalid input Enter a valid input\n",
      "Enter a value (1-10) : rfwef\n",
      "Invalid input Enter a valid input\n",
      "Enter a value (1-10) : er\n",
      "Invalid input Enter a valid input\n",
      "Enter a value (1-10) : 5454\n",
      "Enter a value Between 1-10\n",
      "Enter a value (1-10) : 4545\n",
      "Enter a value Between 1-10\n",
      "Enter a value (1-10) : rtr\n",
      "Invalid input Enter a valid input\n",
      "Enter a value (1-10) : 2\n"
     ]
    },
    {
     "data": {
      "text/plain": [
       "2"
      ]
     },
     "execution_count": 2,
     "metadata": {},
     "output_type": "execute_result"
    }
   ],
   "source": [
    "user_choice()"
   ]
  },
  {
   "cell_type": "code",
   "execution_count": 3,
   "id": "fa911eab",
   "metadata": {},
   "outputs": [
    {
     "name": "stdout",
     "output_type": "stream",
     "text": [
      "Enter a value (1-10) : 32\n",
      "Enter a value Between 1-10\n",
      "Enter a value (1-10) : 444\n",
      "Enter a value Between 1-10\n",
      "Enter a value (1-10) : g\n",
      "Invalid input Enter a valid input\n",
      "Enter a value (1-10) : 1\n"
     ]
    },
    {
     "data": {
      "text/plain": [
       "1"
      ]
     },
     "execution_count": 3,
     "metadata": {},
     "output_type": "execute_result"
    }
   ],
   "source": [
    "user_choice()"
   ]
  },
  {
   "cell_type": "markdown",
   "id": "d7642844",
   "metadata": {},
   "source": [
    "# A simple User_interaction Function\n"
   ]
  },
  {
   "cell_type": "code",
   "execution_count": 4,
   "id": "7d3eab0d",
   "metadata": {},
   "outputs": [],
   "source": [
    "game_list = [0,1,2]\n",
    "\n",
    "def display_list(game_list):\n",
    "    print(\"Here is the Current List\")\n",
    "    print(game_list)"
   ]
  },
  {
   "cell_type": "code",
   "execution_count": 5,
   "id": "6d2ee77d",
   "metadata": {},
   "outputs": [
    {
     "name": "stdout",
     "output_type": "stream",
     "text": [
      "Here is the Current List\n",
      "[0, 1, 2]\n"
     ]
    }
   ],
   "source": [
    "display_list(game_list)"
   ]
  },
  {
   "cell_type": "code",
   "execution_count": 8,
   "id": "8ec7adcb",
   "metadata": {},
   "outputs": [],
   "source": [
    "def user_choice():\n",
    "    choice = 'Wrong'\n",
    "    while choice not in ['0','1','2']:\n",
    "        choice = input('Pick a index between [0,1,2] :')\n",
    "        if choice not in ['0','1','2']:\n",
    "            print('invalid Enter a value between 0-2 :')\n",
    "    return int(choice)"
   ]
  },
  {
   "cell_type": "code",
   "execution_count": 10,
   "id": "18140196",
   "metadata": {},
   "outputs": [
    {
     "name": "stdout",
     "output_type": "stream",
     "text": [
      "Pick a index between [0,1,2] :w\n",
      "invalid Enter a value between 0-2 :\n",
      "Pick a index between [0,1,2] :3\n",
      "invalid Enter a value between 0-2 :\n",
      "Pick a index between [0,1,2] :1\n"
     ]
    },
    {
     "data": {
      "text/plain": [
       "1"
      ]
     },
     "execution_count": 10,
     "metadata": {},
     "output_type": "execute_result"
    }
   ],
   "source": [
    "user_choice()"
   ]
  },
  {
   "cell_type": "code",
   "execution_count": 12,
   "id": "d8d8d4f7",
   "metadata": {},
   "outputs": [],
   "source": [
    "def replacement_choice(game_list,position):\n",
    "    replace_choice = input('Enter a value to replace :')\n",
    "    game_list[position] = replace_choice\n",
    "    \n",
    "    return game_list"
   ]
  },
  {
   "cell_type": "code",
   "execution_count": 14,
   "id": "0aa25dbb",
   "metadata": {},
   "outputs": [
    {
     "name": "stdout",
     "output_type": "stream",
     "text": [
      "Enter a value to replace :Zoro\n"
     ]
    },
    {
     "data": {
      "text/plain": [
       "[0, 'Zoro', 2]"
      ]
     },
     "execution_count": 14,
     "metadata": {},
     "output_type": "execute_result"
    }
   ],
   "source": [
    "replacement_choice(game_list,1)"
   ]
  },
  {
   "cell_type": "code",
   "execution_count": 16,
   "id": "1513bfd9",
   "metadata": {},
   "outputs": [],
   "source": [
    "def gameon_choice():\n",
    "    choice = 'Wrong'\n",
    "    \n",
    "    while choice not in ['y','n']:\n",
    "        choice = input('Select a option [y or n] :')\n",
    "        \n",
    "        if choice not in ['y','n']:\n",
    "            print('Cant understand the value enter [y or n] :')\n",
    "            \n",
    "    if choice =='y':\n",
    "        return True\n",
    "    else :\n",
    "        return False"
   ]
  },
  {
   "cell_type": "code",
   "execution_count": 18,
   "id": "7cb390c0",
   "metadata": {},
   "outputs": [
    {
     "name": "stdout",
     "output_type": "stream",
     "text": [
      "Select a option [y or n] :n\n"
     ]
    },
    {
     "data": {
      "text/plain": [
       "False"
      ]
     },
     "execution_count": 18,
     "metadata": {},
     "output_type": "execute_result"
    }
   ],
   "source": [
    "gameon_choice()"
   ]
  },
  {
   "cell_type": "code",
   "execution_count": 19,
   "id": "d98bce24",
   "metadata": {},
   "outputs": [
    {
     "name": "stdout",
     "output_type": "stream",
     "text": [
      "Here is the Current List\n",
      "[0, 1, 2]\n",
      "Pick a index between [0,1,2] :t\n",
      "invalid Enter a value between 0-2 :\n",
      "Pick a index between [0,1,2] :5\n",
      "invalid Enter a value between 0-2 :\n",
      "Pick a index between [0,1,2] :2\n",
      "Enter a value to replace :Zoro\n",
      "Here is the Current List\n",
      "[0, 1, 'Zoro']\n",
      "Select a option [y or n] :y\n",
      "Here is the Current List\n",
      "[0, 1, 'Zoro']\n",
      "Pick a index between [0,1,2] :0\n",
      "Enter a value to replace :Luffy\n",
      "Here is the Current List\n",
      "['Luffy', 1, 'Zoro']\n",
      "Select a option [y or n] :y\n",
      "Here is the Current List\n",
      "['Luffy', 1, 'Zoro']\n",
      "Pick a index between [0,1,2] :1\n",
      "Enter a value to replace :Sanji\n",
      "Here is the Current List\n",
      "['Luffy', 'Sanji', 'Zoro']\n",
      "Select a option [y or n] :n\n"
     ]
    }
   ],
   "source": [
    "game_on = True\n",
    "game_list = [0,1,2]\n",
    "\n",
    "while game_on:\n",
    "    display_list(game_list)\n",
    "    \n",
    "    position = user_choice()\n",
    "    \n",
    "    game_list = replacement_choice(game_list,position)\n",
    "    \n",
    "    display_list(game_list)\n",
    "    \n",
    "    game_on = gameon_choice()\n",
    "    "
   ]
  },
  {
   "cell_type": "markdown",
   "id": "b2b138a7",
   "metadata": {},
   "source": [
    "# Building a Tic Toc Toe Game\n"
   ]
  },
  {
   "cell_type": "code",
   "execution_count": 1,
   "id": "dfefa846",
   "metadata": {},
   "outputs": [],
   "source": [
    "from IPython.display import clear_output\n",
    "\n",
    "def display_board(board):\n",
    "    clear_output()  \n",
    "    \n",
    "    print('   |   |')\n",
    "    print(' ' + board[7] + ' | ' + board[8] + ' | ' + board[9])\n",
    "    print('   |   |')\n",
    "    print('-----------')\n",
    "    print('   |   |')\n",
    "    print(' ' + board[4] + ' | ' + board[5] + ' | ' + board[6])\n",
    "    print('   |   |')\n",
    "    print('-----------')\n",
    "    print('   |   |')\n",
    "    print(' ' + board[1] + ' | ' + board[2] + ' | ' + board[3])\n",
    "    print('   |   |')"
   ]
  },
  {
   "cell_type": "code",
   "execution_count": 2,
   "id": "2428c07e",
   "metadata": {},
   "outputs": [
    {
     "name": "stdout",
     "output_type": "stream",
     "text": [
      "   |   |\n",
      " X | O | X\n",
      "   |   |\n",
      "-----------\n",
      "   |   |\n",
      " O | X | O\n",
      "   |   |\n",
      "-----------\n",
      "   |   |\n",
      " X | O | X\n",
      "   |   |\n"
     ]
    }
   ],
   "source": [
    "test_board = ['#','X','O','X','O','X','O','X','O','X','O',]\n",
    "display_board(test_board)"
   ]
  },
  {
   "cell_type": "code",
   "execution_count": 3,
   "id": "a9e43f0e",
   "metadata": {},
   "outputs": [],
   "source": [
    "def user_input():\n",
    "    marker = ''\n",
    "    \n",
    "    while marker != 'X' and marker != 'Y':\n",
    "        marker = input('Player 1 ,Choose X or O :').upper()\n",
    "        \n",
    "    player1 = marker\n",
    "    \n",
    "    if player1 == 'X':\n",
    "        player2 = 'O'\n",
    "    else:\n",
    "        player2 =='X'\n",
    "        \n",
    "    return (player1,player2)     "
   ]
  },
  {
   "cell_type": "code",
   "execution_count": 4,
   "id": "c006c849",
   "metadata": {},
   "outputs": [
    {
     "name": "stdout",
     "output_type": "stream",
     "text": [
      "Player 1 ,Choose X or O :x\n"
     ]
    }
   ],
   "source": [
    "player1,player2 = user_input()"
   ]
  },
  {
   "cell_type": "code",
   "execution_count": 5,
   "id": "1dcb44b0",
   "metadata": {},
   "outputs": [
    {
     "name": "stdout",
     "output_type": "stream",
     "text": [
      "X\n",
      "O\n"
     ]
    }
   ],
   "source": [
    "print(player1)\n",
    "print(player2)"
   ]
  },
  {
   "cell_type": "code",
   "execution_count": 6,
   "id": "d2a61c9e",
   "metadata": {},
   "outputs": [],
   "source": [
    "def place_holder(board,marker,position):\n",
    "    board[position] = marker"
   ]
  },
  {
   "cell_type": "code",
   "execution_count": 7,
   "id": "13efe65d",
   "metadata": {},
   "outputs": [
    {
     "name": "stdout",
     "output_type": "stream",
     "text": [
      "   |   |\n",
      " X | ^ | X\n",
      "   |   |\n",
      "-----------\n",
      "   |   |\n",
      " O | X | O\n",
      "   |   |\n",
      "-----------\n",
      "   |   |\n",
      " X | O | X\n",
      "   |   |\n"
     ]
    }
   ],
   "source": [
    "place_holder(test_board,'^',8)\n",
    "display_board(test_board)"
   ]
  },
  {
   "cell_type": "code",
   "execution_count": 8,
   "id": "139df31b",
   "metadata": {},
   "outputs": [],
   "source": [
    "def win_check(board,mark):\n",
    "    \n",
    "    return ((board[7] == mark and board[8] == mark and board[9] == mark) or \n",
    "    (board[4] == mark and board[5] == mark and board[6] == mark) or\n",
    "    (board[1] == mark and board[2] == mark and board[3] == mark) or\n",
    "    (board[7] == mark and board[4] == mark and board[1] == mark) or\n",
    "    (board[8] == mark and board[5] == mark and board[2] == mark) or \n",
    "    (board[9] == mark and board[6] == mark and board[3] == mark) or \n",
    "    (board[7] == mark and board[5] == mark and board[3] == mark) or \n",
    "    (board[9] == mark and board[5] == mark and board[1] == mark)) \n",
    "    "
   ]
  },
  {
   "cell_type": "code",
   "execution_count": 9,
   "id": "f651ab2b",
   "metadata": {},
   "outputs": [
    {
     "data": {
      "text/plain": [
       "True"
      ]
     },
     "execution_count": 9,
     "metadata": {},
     "output_type": "execute_result"
    }
   ],
   "source": [
    "win_check(test_board,'X')"
   ]
  },
  {
   "cell_type": "code",
   "execution_count": 10,
   "id": "a337b9e0",
   "metadata": {},
   "outputs": [],
   "source": [
    "import random\n",
    "def choose_first():\n",
    "    \n",
    "    flip = random.randint(0,1)\n",
    "    \n",
    "    if flip == 0:\n",
    "        return 'Player 1'\n",
    "    else :\n",
    "        return 'Player 2'"
   ]
  },
  {
   "cell_type": "code",
   "execution_count": 11,
   "id": "3e229704",
   "metadata": {},
   "outputs": [
    {
     "data": {
      "text/plain": [
       "'Player 1'"
      ]
     },
     "execution_count": 11,
     "metadata": {},
     "output_type": "execute_result"
    }
   ],
   "source": [
    "choose_first()"
   ]
  },
  {
   "cell_type": "code",
   "execution_count": 12,
   "id": "81bdbbd8",
   "metadata": {},
   "outputs": [],
   "source": [
    "def space_check(board,position):\n",
    "    return board[position] == ' '\n",
    "    "
   ]
  },
  {
   "cell_type": "code",
   "execution_count": 13,
   "id": "04735a42",
   "metadata": {},
   "outputs": [],
   "source": [
    "def full_board_check(board):\n",
    "    for i in range(0,10):\n",
    "        if space_check(board,i):\n",
    "            return False\n",
    "    return True"
   ]
  },
  {
   "cell_type": "code",
   "execution_count": 14,
   "id": "dd6859da",
   "metadata": {},
   "outputs": [],
   "source": [
    "def player_choice(board):\n",
    "    position = 0\n",
    "    \n",
    "    while position not in [range(1,10)] or not space_check(board,position):\n",
    "        position = int(input('Choose a Position :(1-9) :')) \n",
    "    return position    \n",
    "        "
   ]
  },
  {
   "cell_type": "code",
   "execution_count": 15,
   "id": "42a69dea",
   "metadata": {},
   "outputs": [],
   "source": [
    "def replay():\n",
    "    choice = input('Play Again? Enter Yes or No')\n",
    "    \n",
    "    return choice"
   ]
  },
  {
   "cell_type": "code",
   "execution_count": null,
   "id": "253b0b7e",
   "metadata": {},
   "outputs": [],
   "source": [
    "print('Welcome to Tic Tac Toe!')\n",
    "\n",
    "while True:\n",
    "    \n",
    "    theBoard = [' '] * 10\n",
    "    player1_marker, player2_marker = user_input()\n",
    "    turn = choose_first()\n",
    "    print(turn + ' will go first.')\n",
    "    \n",
    "    play_game = input('Are you ready to play? Enter Yes or No.')\n",
    "    \n",
    "    if play_game.lower()[0] == 'y':\n",
    "        game_on = True\n",
    "    else:\n",
    "        game_on = False\n",
    "\n",
    "    while game_on:\n",
    "        if turn == 'Player 1':\n",
    "            \n",
    "            display_board(theBoard)\n",
    "            position = player_choice(theBoard)\n",
    "            place_marker(theBoard, player1_marker, position)\n",
    "\n",
    "            if win_check(theBoard, player1_marker):\n",
    "                display_board(theBoard)\n",
    "                print('Congratulations! You have won the game!')\n",
    "                game_on = False\n",
    "            else:\n",
    "                if full_board_check(theBoard):\n",
    "                    display_board(theBoard)\n",
    "                    print('The game is a draw!')\n",
    "                    break\n",
    "                else:\n",
    "                    turn = 'Player 2'\n",
    "\n",
    "        else:\n",
    "            \n",
    "            display_board(theBoard)\n",
    "            position = player_choice(theBoard)\n",
    "            place_marker(theBoard, player2_marker, position)\n",
    "\n",
    "            if win_check(theBoard, player2_marker):\n",
    "                display_board(theBoard)\n",
    "                print('Player 2 has won!')\n",
    "                game_on = False\n",
    "            else:\n",
    "                if full_board_check(theBoard):\n",
    "                    display_board(theBoard)\n",
    "                    print('The game is a draw!')\n",
    "                    break\n",
    "                else:\n",
    "                    turn = 'Player 1'\n",
    "\n",
    "    if not replay():\n",
    "        break\n",
    "            "
   ]
  },
  {
   "cell_type": "markdown",
   "id": "a1dd3813",
   "metadata": {},
   "source": [
    "# Object Oriented Programming "
   ]
  },
  {
   "cell_type": "code",
   "execution_count": 7,
   "id": "ec338658",
   "metadata": {},
   "outputs": [],
   "source": [
    "class Dog():\n",
    "    #class object attributes\n",
    "    species = 'Mammual'\n",
    "    \n",
    "    def __init__(self,breed,age,name):\n",
    "        self.mybreed = breed\n",
    "        self.myage = age\n",
    "        self.myname = name"
   ]
  },
  {
   "cell_type": "code",
   "execution_count": 8,
   "id": "4d5af6d2",
   "metadata": {},
   "outputs": [],
   "source": [
    "my_dog = Dog('Lab',23,'Luffy')"
   ]
  },
  {
   "cell_type": "code",
   "execution_count": 9,
   "id": "04d39725",
   "metadata": {},
   "outputs": [
    {
     "data": {
      "text/plain": [
       "'Lab'"
      ]
     },
     "execution_count": 9,
     "metadata": {},
     "output_type": "execute_result"
    }
   ],
   "source": [
    "my_dog.mybreed"
   ]
  },
  {
   "cell_type": "code",
   "execution_count": 4,
   "id": "d8405888",
   "metadata": {},
   "outputs": [
    {
     "data": {
      "text/plain": [
       "'Luffy'"
      ]
     },
     "execution_count": 4,
     "metadata": {},
     "output_type": "execute_result"
    }
   ],
   "source": [
    "my_dog.myname"
   ]
  },
  {
   "cell_type": "code",
   "execution_count": 10,
   "id": "1dd91ef4",
   "metadata": {},
   "outputs": [
    {
     "data": {
      "text/plain": [
       "'Mammual'"
      ]
     },
     "execution_count": 10,
     "metadata": {},
     "output_type": "execute_result"
    }
   ],
   "source": [
    "my_dog.species\n"
   ]
  },
  {
   "cell_type": "code",
   "execution_count": 11,
   "id": "4ff9b64e",
   "metadata": {},
   "outputs": [
    {
     "name": "stdout",
     "output_type": "stream",
     "text": [
      "Radius is:  1\n",
      "Area is:  3.14\n",
      "Circumference is:  6.28\n"
     ]
    }
   ],
   "source": [
    "class Circle:\n",
    "    pi = 3.14\n",
    "\n",
    "    # Circle gets instantiated with a radius (default is 1)\n",
    "    def __init__(self, radius=1):\n",
    "        self.radius = radius \n",
    "        self.area = radius * radius * Circle.pi\n",
    "\n",
    "    # Method for resetting Radius\n",
    "    def setRadius(self, new_radius):\n",
    "        self.radius = new_radius\n",
    "        self.area = new_radius * new_radius * self.pi\n",
    "\n",
    "    # Method for getting Circumference\n",
    "    def getCircumference(self):\n",
    "        return self.radius * self.pi * 2\n",
    "\n",
    "\n",
    "c = Circle()\n",
    "\n",
    "print('Radius is: ',c.radius)\n",
    "print('Area is: ',c.area)\n",
    "print('Circumference is: ',c.getCircumference())"
   ]
  },
  {
   "cell_type": "code",
   "execution_count": 12,
   "id": "18fb66a0",
   "metadata": {},
   "outputs": [
    {
     "name": "stdout",
     "output_type": "stream",
     "text": [
      "Radius is:  2\n",
      "Area is:  12.56\n",
      "Circumference is:  12.56\n"
     ]
    }
   ],
   "source": [
    "c.setRadius(2)\n",
    "\n",
    "print('Radius is: ',c.radius)\n",
    "print('Area is: ',c.area)\n",
    "print('Circumference is: ',c.getCircumference())"
   ]
  },
  {
   "cell_type": "code",
   "execution_count": 13,
   "id": "8ecba57c",
   "metadata": {},
   "outputs": [],
   "source": [
    "class Animal:\n",
    "    def __init__(self):\n",
    "        print(\"Animal created\")\n",
    "\n",
    "    def whoAmI(self):\n",
    "        print(\"Animal\")\n",
    "\n",
    "    def eat(self):\n",
    "        print(\"Eating\")\n",
    "\n",
    "\n",
    "class Dog(Animal):\n",
    "    def __init__(self):\n",
    "        Animal.__init__(self)\n",
    "        print(\"Dog created\")\n",
    "\n",
    "    def whoAmI(self):\n",
    "        print(\"Dog\")\n",
    "\n",
    "    def bark(self):\n",
    "        print(\"Woof!\")"
   ]
  },
  {
   "cell_type": "code",
   "execution_count": 14,
   "id": "9444cdd9",
   "metadata": {},
   "outputs": [
    {
     "name": "stdout",
     "output_type": "stream",
     "text": [
      "Animal created\n",
      "Dog created\n"
     ]
    }
   ],
   "source": [
    "d = Dog()"
   ]
  },
  {
   "cell_type": "code",
   "execution_count": 15,
   "id": "26a2a914",
   "metadata": {},
   "outputs": [
    {
     "name": "stdout",
     "output_type": "stream",
     "text": [
      "Dog\n"
     ]
    }
   ],
   "source": [
    "d.whoAmI()"
   ]
  },
  {
   "cell_type": "code",
   "execution_count": 16,
   "id": "15da92b3",
   "metadata": {},
   "outputs": [
    {
     "name": "stdout",
     "output_type": "stream",
     "text": [
      "Niko says Woof!\n",
      "Felix says Meow!\n"
     ]
    }
   ],
   "source": [
    "class Dog:\n",
    "    def __init__(self, name):\n",
    "        self.name = name\n",
    "\n",
    "    def speak(self):\n",
    "        return self.name+' says Woof!'\n",
    "    \n",
    "class Cat:\n",
    "    def __init__(self, name):\n",
    "        self.name = name\n",
    "\n",
    "    def speak(self):\n",
    "        return self.name+' says Meow!' \n",
    "    \n",
    "niko = Dog('Niko')\n",
    "felix = Cat('Felix')\n",
    "\n",
    "print(niko.speak())\n",
    "print(felix.speak())"
   ]
  },
  {
   "cell_type": "markdown",
   "id": "afd55aba",
   "metadata": {},
   "source": [
    "# (30/09/2023)"
   ]
  },
  {
   "cell_type": "markdown",
   "id": "47abdc12",
   "metadata": {},
   "source": [
    "Magic Methods\n"
   ]
  },
  {
   "cell_type": "code",
   "execution_count": 36,
   "id": "7b5fc7e3",
   "metadata": {},
   "outputs": [],
   "source": [
    "class Book():\n",
    "    def __init__(self,title,author,pages):\n",
    "        self.title = title\n",
    "        self.author = author\n",
    "        self.pages = pages\n",
    "        \n",
    "    def __str__(self):\n",
    "        return f\"{self.title} is by {self.author}\"\n",
    "    \n",
    "    def __len__(self):\n",
    "        return self.pages\n",
    "    \n",
    "    def __del__(self):\n",
    "        return print('Book Object as been Deleted')"
   ]
  },
  {
   "cell_type": "code",
   "execution_count": 37,
   "id": "aefc7fd4",
   "metadata": {},
   "outputs": [],
   "source": [
    "b = Book('Python','Luffy',200)"
   ]
  },
  {
   "cell_type": "code",
   "execution_count": 38,
   "id": "fe456975",
   "metadata": {},
   "outputs": [
    {
     "name": "stdout",
     "output_type": "stream",
     "text": [
      "Python is by Luffy\n"
     ]
    }
   ],
   "source": [
    "print(b)"
   ]
  },
  {
   "cell_type": "code",
   "execution_count": 39,
   "id": "33f4ab7e",
   "metadata": {},
   "outputs": [
    {
     "data": {
      "text/plain": [
       "'Python is by Luffy'"
      ]
     },
     "execution_count": 39,
     "metadata": {},
     "output_type": "execute_result"
    }
   ],
   "source": [
    "str(b)"
   ]
  },
  {
   "cell_type": "code",
   "execution_count": 40,
   "id": "1f5ef804",
   "metadata": {},
   "outputs": [
    {
     "data": {
      "text/plain": [
       "200"
      ]
     },
     "execution_count": 40,
     "metadata": {},
     "output_type": "execute_result"
    }
   ],
   "source": [
    "len(b)"
   ]
  },
  {
   "cell_type": "code",
   "execution_count": 41,
   "id": "bc0fde68",
   "metadata": {},
   "outputs": [
    {
     "name": "stdout",
     "output_type": "stream",
     "text": [
      "Book Object as been Deleted\n"
     ]
    }
   ],
   "source": [
    "del b"
   ]
  },
  {
   "cell_type": "code",
   "execution_count": 43,
   "id": "3eae8da1",
   "metadata": {},
   "outputs": [],
   "source": [
    "class Line():\n",
    "    def __init__(self,coor1,coor2):\n",
    "        self.coor1 = coor1\n",
    "        self.coor2 = coor2\n",
    "        \n",
    "    def distance(self):\n",
    "        x1,x2 =self.coor1\n",
    "        y1,y2 =self.coor2\n",
    "        \n",
    "        return ((x2-x1)**2 + (y2-y1)**2)**0.5\n",
    "    \n",
    "    def slope(self):\n",
    "        \n",
    "        x1,x2 =self.coor1\n",
    "        y1,y2 =self.coor2\n",
    "        \n",
    "        return (y2-y1)/(x2-x1)\n",
    "        "
   ]
  },
  {
   "cell_type": "code",
   "execution_count": 45,
   "id": "3f683eba",
   "metadata": {},
   "outputs": [],
   "source": [
    "my_line = Line((2,3),(4,5))"
   ]
  },
  {
   "cell_type": "code",
   "execution_count": 47,
   "id": "2160c2ac",
   "metadata": {},
   "outputs": [
    {
     "data": {
      "text/plain": [
       "1.4142135623730951"
      ]
     },
     "execution_count": 47,
     "metadata": {},
     "output_type": "execute_result"
    }
   ],
   "source": [
    "my_line.distance()"
   ]
  },
  {
   "cell_type": "code",
   "execution_count": 48,
   "id": "b60fd190",
   "metadata": {},
   "outputs": [
    {
     "data": {
      "text/plain": [
       "1.0"
      ]
     },
     "execution_count": 48,
     "metadata": {},
     "output_type": "execute_result"
    }
   ],
   "source": [
    "my_line.slope()"
   ]
  },
  {
   "cell_type": "code",
   "execution_count": 49,
   "id": "adffd568",
   "metadata": {},
   "outputs": [
    {
     "data": {
      "text/plain": [
       "(2, 3)"
      ]
     },
     "execution_count": 49,
     "metadata": {},
     "output_type": "execute_result"
    }
   ],
   "source": [
    "my_line.coor1"
   ]
  },
  {
   "cell_type": "code",
   "execution_count": 50,
   "id": "54e9aea8",
   "metadata": {},
   "outputs": [
    {
     "data": {
      "text/plain": [
       "(4, 5)"
      ]
     },
     "execution_count": 50,
     "metadata": {},
     "output_type": "execute_result"
    }
   ],
   "source": [
    "my_line.coor2"
   ]
  },
  {
   "cell_type": "code",
   "execution_count": 53,
   "id": "f6b85e7b",
   "metadata": {},
   "outputs": [],
   "source": [
    "class Cylinders():\n",
    "    def __init__(self,height=1,radius=1):\n",
    "        self.height = height\n",
    "        self.radius = radius\n",
    "        \n",
    "    def volume(self):\n",
    "        return self.height * 3.14 * (self.radius)**2\n",
    "    \n",
    "    def surface_area(self):\n",
    "        top = 3.14 * (self.radius**2)\n",
    "        \n",
    "        return (2*top) + (2*3.14*self.radius*self.height)"
   ]
  },
  {
   "cell_type": "code",
   "execution_count": 56,
   "id": "51c943f1",
   "metadata": {},
   "outputs": [],
   "source": [
    "my_cly = Cylinders(2,3)"
   ]
  },
  {
   "cell_type": "code",
   "execution_count": 57,
   "id": "ed6fdd97",
   "metadata": {},
   "outputs": [
    {
     "data": {
      "text/plain": [
       "94.2"
      ]
     },
     "execution_count": 57,
     "metadata": {},
     "output_type": "execute_result"
    }
   ],
   "source": [
    "my_cly.surface_area()"
   ]
  },
  {
   "cell_type": "code",
   "execution_count": 58,
   "id": "fa2b96aa",
   "metadata": {},
   "outputs": [
    {
     "data": {
      "text/plain": [
       "56.52"
      ]
     },
     "execution_count": 58,
     "metadata": {},
     "output_type": "execute_result"
    }
   ],
   "source": [
    "my_cly.volume()"
   ]
  },
  {
   "cell_type": "code",
   "execution_count": 59,
   "id": "e35597e4",
   "metadata": {},
   "outputs": [
    {
     "data": {
      "text/plain": [
       "2"
      ]
     },
     "execution_count": 59,
     "metadata": {},
     "output_type": "execute_result"
    }
   ],
   "source": [
    "my_cly.height"
   ]
  },
  {
   "cell_type": "code",
   "execution_count": 60,
   "id": "2f7a7cb7",
   "metadata": {},
   "outputs": [
    {
     "data": {
      "text/plain": [
       "3"
      ]
     },
     "execution_count": 60,
     "metadata": {},
     "output_type": "execute_result"
    }
   ],
   "source": [
    "my_cly.radius"
   ]
  },
  {
   "cell_type": "markdown",
   "id": "aa46cfd6",
   "metadata": {},
   "source": [
    "Creating a basic Bank system"
   ]
  },
  {
   "cell_type": "code",
   "execution_count": 254,
   "id": "9ac35807",
   "metadata": {},
   "outputs": [],
   "source": [
    "class Account():\n",
    "    def __init__(self,owner,balance):\n",
    "        self.owner = owner\n",
    "        self.balance = balance\n",
    "        \n",
    "    def deposite(self,new):\n",
    "        self.balance = new + self.balance\n",
    "        print(f'Balance Remaining : {self.balance}')\n",
    "    def withdraw(self,param):\n",
    "        if param <= self.balance:\n",
    "            self.balance = self.balance - param\n",
    "            print(f'Balance Remaining : {self.balance}')\n",
    "        else:\n",
    "            print('Insafficiant Balance')\n",
    "    def __str__(self):\n",
    "        return(f\"ACCOUNT OWNER : {self.owner}\")+'\\n'+(f'ACCOUNT BALANCE : {self.balance}')\n"
   ]
  },
  {
   "cell_type": "code",
   "execution_count": 255,
   "id": "e90951fc",
   "metadata": {},
   "outputs": [],
   "source": [
    "acct1 = Account('Luffy',1000)"
   ]
  },
  {
   "cell_type": "code",
   "execution_count": 256,
   "id": "4b7feeda",
   "metadata": {},
   "outputs": [
    {
     "name": "stdout",
     "output_type": "stream",
     "text": [
      "ACCOUNT OWNER : Luffy\n",
      "ACCOUNT BALANCE : 1000\n"
     ]
    }
   ],
   "source": [
    "print(acct1)"
   ]
  },
  {
   "cell_type": "code",
   "execution_count": 257,
   "id": "5ed9efa6",
   "metadata": {},
   "outputs": [
    {
     "data": {
      "text/plain": [
       "'Luffy'"
      ]
     },
     "execution_count": 257,
     "metadata": {},
     "output_type": "execute_result"
    }
   ],
   "source": [
    "acct1.owner"
   ]
  },
  {
   "cell_type": "code",
   "execution_count": 258,
   "id": "5d1688dc",
   "metadata": {},
   "outputs": [
    {
     "data": {
      "text/plain": [
       "1000"
      ]
     },
     "execution_count": 258,
     "metadata": {},
     "output_type": "execute_result"
    }
   ],
   "source": [
    "acct1.balance"
   ]
  },
  {
   "cell_type": "code",
   "execution_count": 259,
   "id": "11231eb6",
   "metadata": {},
   "outputs": [
    {
     "name": "stdout",
     "output_type": "stream",
     "text": [
      "Balance Remaining : 3000\n"
     ]
    }
   ],
   "source": [
    "acct1.deposite(2000)"
   ]
  },
  {
   "cell_type": "code",
   "execution_count": 260,
   "id": "ec59cfe8",
   "metadata": {},
   "outputs": [
    {
     "name": "stdout",
     "output_type": "stream",
     "text": [
      "Balance Remaining : 0\n"
     ]
    }
   ],
   "source": [
    "acct1.withdraw(3000)"
   ]
  },
  {
   "cell_type": "code",
   "execution_count": 261,
   "id": "5ae60f6a",
   "metadata": {},
   "outputs": [],
   "source": [
    "acct2 = Account('Zoro',300)"
   ]
  },
  {
   "cell_type": "code",
   "execution_count": 262,
   "id": "58a985e1",
   "metadata": {},
   "outputs": [
    {
     "name": "stdout",
     "output_type": "stream",
     "text": [
      "ACCOUNT OWNER : Zoro\n",
      "ACCOUNT BALANCE : 300\n"
     ]
    }
   ],
   "source": [
    "print(acct2)"
   ]
  },
  {
   "cell_type": "code",
   "execution_count": 264,
   "id": "fe6e9847",
   "metadata": {},
   "outputs": [
    {
     "name": "stdout",
     "output_type": "stream",
     "text": [
      "b\n"
     ]
    }
   ],
   "source": [
    "print('b')"
   ]
  },
  {
   "cell_type": "code",
   "execution_count": 265,
   "id": "08f468f5",
   "metadata": {},
   "outputs": [
    {
     "name": "stdout",
     "output_type": "stream",
     "text": [
      "Zoro 300\n"
     ]
    }
   ],
   "source": [
    "print('Zoro',300)"
   ]
  },
  {
   "cell_type": "markdown",
   "id": "d4fc79e5",
   "metadata": {},
   "source": [
    "# 03/10/2023"
   ]
  },
  {
   "cell_type": "code",
   "execution_count": 8,
   "id": "f8e5dcaf",
   "metadata": {},
   "outputs": [],
   "source": [
    "def ask_for_input():\n",
    "    \n",
    "    while True:\n",
    "        try:\n",
    "            result = int(input('Please Provide a number :'))\n",
    "\n",
    "        except:\n",
    "            print('There is an Error')\n",
    "#             continue\n",
    "        else:\n",
    "            print(\"That's an a valid number\") \n",
    "            break\n",
    "        finally:\n",
    "            print('I always run at the end')"
   ]
  },
  {
   "cell_type": "code",
   "execution_count": 7,
   "id": "c04b600a",
   "metadata": {},
   "outputs": [
    {
     "name": "stdout",
     "output_type": "stream",
     "text": [
      "Please Provide a number :sd\n",
      "There is an Error\n",
      "I always run at the end\n",
      "Please Provide a number :2\n",
      "That's an a valid number\n",
      "I always run at the end\n"
     ]
    }
   ],
   "source": [
    "ask_for_input()"
   ]
  },
  {
   "cell_type": "markdown",
   "id": "e8af4fc9",
   "metadata": {},
   "source": [
    "# Decarators"
   ]
  },
  {
   "cell_type": "code",
   "execution_count": 16,
   "id": "ad514f0a",
   "metadata": {},
   "outputs": [],
   "source": [
    "def new_decorator(original_function):\n",
    "    \n",
    "    def wrap_func():\n",
    "        print('some new line before the decorators')\n",
    "\n",
    "        original_function()\n",
    "\n",
    "        print('some new line of core after the decorators')\n",
    "    return wrap_func"
   ]
  },
  {
   "cell_type": "code",
   "execution_count": 17,
   "id": "ff8d87ac",
   "metadata": {},
   "outputs": [],
   "source": [
    "def func_need_decorators():\n",
    "    print('I want to be decorated!!!')"
   ]
  },
  {
   "cell_type": "code",
   "execution_count": 20,
   "id": "8bdf7850",
   "metadata": {},
   "outputs": [],
   "source": [
    "new_func_dec =  new_decorator(func_need_decorators)"
   ]
  },
  {
   "cell_type": "code",
   "execution_count": 22,
   "id": "e48af8ce",
   "metadata": {},
   "outputs": [
    {
     "name": "stdout",
     "output_type": "stream",
     "text": [
      "some new line before the decorators\n",
      "I want to be decorated!!!\n",
      "some new line of core after the decorators\n"
     ]
    }
   ],
   "source": [
    "new_func_dec()"
   ]
  },
  {
   "cell_type": "code",
   "execution_count": 24,
   "id": "a6e633a5",
   "metadata": {},
   "outputs": [],
   "source": [
    "@new_decorator\n",
    "def func_need_decorators():\n",
    "    print('I want to be decorated!!!')"
   ]
  },
  {
   "cell_type": "code",
   "execution_count": 25,
   "id": "80be0be3",
   "metadata": {},
   "outputs": [
    {
     "name": "stdout",
     "output_type": "stream",
     "text": [
      "some new line before the decorators\n",
      "I want to be decorated!!!\n",
      "some new line of core after the decorators\n"
     ]
    }
   ],
   "source": [
    "func_need_decorators()"
   ]
  }
 ],
 "metadata": {
  "kernelspec": {
   "display_name": "Python 3 (ipykernel)",
   "language": "python",
   "name": "python3"
  },
  "language_info": {
   "codemirror_mode": {
    "name": "ipython",
    "version": 3
   },
   "file_extension": ".py",
   "mimetype": "text/x-python",
   "name": "python",
   "nbconvert_exporter": "python",
   "pygments_lexer": "ipython3",
   "version": "3.10.9"
  }
 },
 "nbformat": 4,
 "nbformat_minor": 5
}
