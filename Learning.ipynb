{
 "cells": [
  {
   "cell_type": "code",
   "execution_count": 1,
   "id": "7c914ccc",
   "metadata": {},
   "outputs": [],
   "source": [
    "my_dict = {\n",
    "    \"k1\":'jirac',\n",
    "    'k2':'peter',\n",
    "    'k3':'son'\n",
    "}"
   ]
  },
  {
   "cell_type": "code",
   "execution_count": 2,
   "id": "d20ce7fa",
   "metadata": {},
   "outputs": [
    {
     "name": "stdout",
     "output_type": "stream",
     "text": [
      "{'k1': 'jirac', 'k2': 'peter', 'k3': 'son'}\n"
     ]
    }
   ],
   "source": [
    "print(my_dict)"
   ]
  },
  {
   "cell_type": "code",
   "execution_count": 3,
   "id": "a886862d",
   "metadata": {},
   "outputs": [],
   "source": [
    "my_dict['k4'] = 'Enma'"
   ]
  },
  {
   "cell_type": "code",
   "execution_count": 4,
   "id": "1559bec3",
   "metadata": {},
   "outputs": [
    {
     "name": "stdout",
     "output_type": "stream",
     "text": [
      "{'k1': 'jirac', 'k2': 'peter', 'k3': 'son', 'k4': 'Enma'}\n"
     ]
    }
   ],
   "source": [
    "print(my_dict)"
   ]
  },
  {
   "cell_type": "code",
   "execution_count": 5,
   "id": "0e2e3f1b",
   "metadata": {},
   "outputs": [
    {
     "data": {
      "text/plain": [
       "dict_items([('k1', 'jirac'), ('k2', 'peter'), ('k3', 'son'), ('k4', 'Enma')])"
      ]
     },
     "execution_count": 5,
     "metadata": {},
     "output_type": "execute_result"
    }
   ],
   "source": [
    "my_dict.items()"
   ]
  },
  {
   "cell_type": "code",
   "execution_count": 6,
   "id": "9771b6ec",
   "metadata": {},
   "outputs": [
    {
     "data": {
      "text/plain": [
       "dict_keys(['k1', 'k2', 'k3', 'k4'])"
      ]
     },
     "execution_count": 6,
     "metadata": {},
     "output_type": "execute_result"
    }
   ],
   "source": [
    "my_dict.keys()"
   ]
  },
  {
   "cell_type": "code",
   "execution_count": 7,
   "id": "c53b896f",
   "metadata": {},
   "outputs": [],
   "source": [
    "del my_dict['k1']"
   ]
  },
  {
   "cell_type": "code",
   "execution_count": 8,
   "id": "218ea7f9",
   "metadata": {},
   "outputs": [
    {
     "data": {
      "text/plain": [
       "{'k2': 'peter', 'k3': 'son', 'k4': 'Enma'}"
      ]
     },
     "execution_count": 8,
     "metadata": {},
     "output_type": "execute_result"
    }
   ],
   "source": [
    "my_dict"
   ]
  },
  {
   "cell_type": "code",
   "execution_count": 65,
   "id": "0c16c6f3",
   "metadata": {},
   "outputs": [
    {
     "name": "stdout",
     "output_type": "stream",
     "text": [
      "Overwriting my_file.txt\n"
     ]
    }
   ],
   "source": [
    "%%writefile my_file.txt\n",
    "this is a text sample file\n",
    "this is a first line of this file\n",
    "this is a second line of the file\n",
    "this is a third line of the file"
   ]
  },
  {
   "cell_type": "code",
   "execution_count": 12,
   "id": "3da95433",
   "metadata": {},
   "outputs": [],
   "source": [
    "my_files = open('my_file.txt')"
   ]
  },
  {
   "cell_type": "code",
   "execution_count": 13,
   "id": "d1d62ad5",
   "metadata": {},
   "outputs": [
    {
     "data": {
      "text/plain": [
       "<_io.TextIOWrapper name='my_file.txt' mode='r' encoding='cp1252'>"
      ]
     },
     "execution_count": 13,
     "metadata": {},
     "output_type": "execute_result"
    }
   ],
   "source": [
    "my_files"
   ]
  },
  {
   "cell_type": "code",
   "execution_count": 14,
   "id": "a79c089f",
   "metadata": {},
   "outputs": [
    {
     "data": {
      "text/plain": [
       "'C:\\\\Users\\\\hp\\\\Downloads\\\\JavaTpoint'"
      ]
     },
     "execution_count": 14,
     "metadata": {},
     "output_type": "execute_result"
    }
   ],
   "source": [
    "pwd"
   ]
  },
  {
   "cell_type": "code",
   "execution_count": 15,
   "id": "a583c92b",
   "metadata": {},
   "outputs": [
    {
     "data": {
      "text/plain": [
       "'this is a text sample file\\nthis is a first line of this file\\nthis is a second line of the file\\nthis is a third line of the file\\n'"
      ]
     },
     "execution_count": 15,
     "metadata": {},
     "output_type": "execute_result"
    }
   ],
   "source": [
    "my_files.read()"
   ]
  },
  {
   "cell_type": "code",
   "execution_count": 16,
   "id": "411ece20",
   "metadata": {},
   "outputs": [
    {
     "data": {
      "text/plain": [
       "''"
      ]
     },
     "execution_count": 16,
     "metadata": {},
     "output_type": "execute_result"
    }
   ],
   "source": [
    "my_files.read()"
   ]
  },
  {
   "cell_type": "code",
   "execution_count": 17,
   "id": "0e8d05ac",
   "metadata": {},
   "outputs": [
    {
     "data": {
      "text/plain": [
       "0"
      ]
     },
     "execution_count": 17,
     "metadata": {},
     "output_type": "execute_result"
    }
   ],
   "source": [
    "my_files.seek(0)"
   ]
  },
  {
   "cell_type": "code",
   "execution_count": 18,
   "id": "7d777d96",
   "metadata": {},
   "outputs": [
    {
     "data": {
      "text/plain": [
       "'this is a text sample file\\nthis is a first line of this file\\nthis is a second line of the file\\nthis is a third line of the file\\n'"
      ]
     },
     "execution_count": 18,
     "metadata": {},
     "output_type": "execute_result"
    }
   ],
   "source": [
    "my_files.read()"
   ]
  },
  {
   "cell_type": "code",
   "execution_count": 20,
   "id": "41712609",
   "metadata": {},
   "outputs": [],
   "source": [
    "with open('my_file.txt') as my_files_text:\n",
    "    content = my_files_text.read()"
   ]
  },
  {
   "cell_type": "code",
   "execution_count": 21,
   "id": "510dd928",
   "metadata": {},
   "outputs": [
    {
     "data": {
      "text/plain": [
       "'this is a text sample file\\nthis is a first line of this file\\nthis is a second line of the file\\nthis is a third line of the file\\n'"
      ]
     },
     "execution_count": 21,
     "metadata": {},
     "output_type": "execute_result"
    }
   ],
   "source": [
    "content"
   ]
  },
  {
   "cell_type": "code",
   "execution_count": 22,
   "id": "ee88a763",
   "metadata": {},
   "outputs": [],
   "source": [
    "with open('Files.txt',mode='w') as f:\n",
    "    f.write('I\"m RoronaZoro')"
   ]
  },
  {
   "cell_type": "code",
   "execution_count": 23,
   "id": "eae2e4a1",
   "metadata": {},
   "outputs": [
    {
     "name": "stdout",
     "output_type": "stream",
     "text": [
      "I\"m RoronaZoro\n"
     ]
    }
   ],
   "source": [
    "with open('Files.txt',mode='r') as f:\n",
    "    print(f.read())"
   ]
  },
  {
   "cell_type": "code",
   "execution_count": 27,
   "id": "c6879800",
   "metadata": {},
   "outputs": [
    {
     "name": "stdout",
     "output_type": "stream",
     "text": [
      "k1\n",
      "k2\n",
      "k3\n"
     ]
    }
   ],
   "source": [
    "d = {'k1':1,'k2':2,'k3':3}\n",
    "for i,j in d.items():\n",
    "    print(i)"
   ]
  },
  {
   "cell_type": "code",
   "execution_count": 31,
   "id": "5331dffb",
   "metadata": {},
   "outputs": [
    {
     "name": "stdout",
     "output_type": "stream",
     "text": [
      "2 3\n",
      "5 6\n",
      "8 9\n"
     ]
    }
   ],
   "source": [
    "l = [(1,2,3),(4,5,6),(7,8,9)]\n",
    "\n",
    "for i,j,k in l:\n",
    "    print(j,k)"
   ]
  },
  {
   "cell_type": "code",
   "execution_count": 32,
   "id": "24029cda",
   "metadata": {},
   "outputs": [],
   "source": [
    "my_list = [1,2,3,4,5]\n",
    "\n",
    "suq_list = []\n",
    "\n",
    "for i in my_list:\n",
    "    suq_list.append(i**2)"
   ]
  },
  {
   "cell_type": "code",
   "execution_count": 33,
   "id": "12466f32",
   "metadata": {},
   "outputs": [
    {
     "data": {
      "text/plain": [
       "[1, 4, 9, 16, 25]"
      ]
     },
     "execution_count": 33,
     "metadata": {},
     "output_type": "execute_result"
    }
   ],
   "source": [
    "suq_list"
   ]
  },
  {
   "cell_type": "code",
   "execution_count": 34,
   "id": "875f966c",
   "metadata": {},
   "outputs": [],
   "source": [
    "suq1_list = [x**2 for x in my_list]"
   ]
  },
  {
   "cell_type": "code",
   "execution_count": 35,
   "id": "a47279f2",
   "metadata": {},
   "outputs": [
    {
     "data": {
      "text/plain": [
       "[1, 4, 9, 16, 25]"
      ]
     },
     "execution_count": 35,
     "metadata": {},
     "output_type": "execute_result"
    }
   ],
   "source": [
    "suq1_list"
   ]
  },
  {
   "cell_type": "code",
   "execution_count": 40,
   "id": "89d5525f",
   "metadata": {},
   "outputs": [],
   "source": [
    "range_list = [x**2 for x in range(1,11)]"
   ]
  },
  {
   "cell_type": "code",
   "execution_count": 41,
   "id": "671ebe11",
   "metadata": {},
   "outputs": [
    {
     "data": {
      "text/plain": [
       "[1, 4, 9, 16, 25, 36, 49, 64, 81, 100]"
      ]
     },
     "execution_count": 41,
     "metadata": {},
     "output_type": "execute_result"
    }
   ],
   "source": [
    "range_list"
   ]
  },
  {
   "cell_type": "code",
   "execution_count": 42,
   "id": "df7b87b8",
   "metadata": {},
   "outputs": [],
   "source": [
    "if_list = [x for x in range(1,11) if x%2==0]"
   ]
  },
  {
   "cell_type": "code",
   "execution_count": 43,
   "id": "e556ea24",
   "metadata": {},
   "outputs": [
    {
     "data": {
      "text/plain": [
       "[2, 4, 6, 8, 10]"
      ]
     },
     "execution_count": 43,
     "metadata": {},
     "output_type": "execute_result"
    }
   ],
   "source": [
    "if_list"
   ]
  },
  {
   "cell_type": "code",
   "execution_count": 48,
   "id": "af3566d0",
   "metadata": {},
   "outputs": [],
   "source": [
    "if1_list = [x**2 for x in if_list]"
   ]
  },
  {
   "cell_type": "code",
   "execution_count": 49,
   "id": "5393534e",
   "metadata": {},
   "outputs": [
    {
     "data": {
      "text/plain": [
       "[4, 16, 36, 64, 100]"
      ]
     },
     "execution_count": 49,
     "metadata": {},
     "output_type": "execute_result"
    }
   ],
   "source": [
    "if1_list"
   ]
  },
  {
   "cell_type": "code",
   "execution_count": 59,
   "id": "d205fbaa",
   "metadata": {},
   "outputs": [],
   "source": [
    "if_else_list = [x if x%2==0 else 'ODD NUM'  for x in range(1,11)]"
   ]
  },
  {
   "cell_type": "code",
   "execution_count": 60,
   "id": "7bf558cf",
   "metadata": {},
   "outputs": [
    {
     "data": {
      "text/plain": [
       "['ODD NUM', 2, 'ODD NUM', 4, 'ODD NUM', 6, 'ODD NUM', 8, 'ODD NUM', 10]"
      ]
     },
     "execution_count": 60,
     "metadata": {},
     "output_type": "execute_result"
    }
   ],
   "source": [
    "if_else_list"
   ]
  },
  {
   "cell_type": "markdown",
   "id": "558a6a99",
   "metadata": {},
   "source": [
    "# (28/09/2023)"
   ]
  },
  {
   "cell_type": "code",
   "execution_count": 61,
   "id": "cf66cf72",
   "metadata": {},
   "outputs": [],
   "source": [
    "my_list = []\n",
    "\n",
    "for x in [2,4,6]:\n",
    "    for y in [10,20,100]:\n",
    "        my_list.append(x*y)"
   ]
  },
  {
   "cell_type": "code",
   "execution_count": 62,
   "id": "c613be6c",
   "metadata": {},
   "outputs": [
    {
     "data": {
      "text/plain": [
       "[20, 40, 200, 40, 80, 400, 60, 120, 600]"
      ]
     },
     "execution_count": 62,
     "metadata": {},
     "output_type": "execute_result"
    }
   ],
   "source": [
    "my_list"
   ]
  },
  {
   "cell_type": "code",
   "execution_count": 63,
   "id": "b531ec1e",
   "metadata": {},
   "outputs": [],
   "source": [
    "nested_list = [x*y for x in [2,4,6] for y in [10,20,100]]"
   ]
  },
  {
   "cell_type": "code",
   "execution_count": 64,
   "id": "f2bc4f1d",
   "metadata": {},
   "outputs": [
    {
     "data": {
      "text/plain": [
       "[20, 40, 200, 40, 80, 400, 60, 120, 600]"
      ]
     },
     "execution_count": 64,
     "metadata": {},
     "output_type": "execute_result"
    }
   ],
   "source": [
    "nested_list"
   ]
  },
  {
   "cell_type": "code",
   "execution_count": 73,
   "id": "b4c85168",
   "metadata": {},
   "outputs": [],
   "source": [
    "employee = [('Zoro',8000),('Sanji',1000),('Luffy',4000),('Brook',10000)]\n",
    "\n",
    "def employees_score(employee):\n",
    "    employee_name = ''\n",
    "    employee_time = 0\n",
    "    for name,time in employee:\n",
    "        if time > employee_time:\n",
    "            employee_time = time\n",
    "            employee_name = name\n",
    "        else:\n",
    "            pass\n",
    "    return (employee_name,employee_time)\n",
    "            \n",
    "        "
   ]
  },
  {
   "cell_type": "code",
   "execution_count": 74,
   "id": "156272f1",
   "metadata": {},
   "outputs": [
    {
     "data": {
      "text/plain": [
       "('Brook', 10000)"
      ]
     },
     "execution_count": 74,
     "metadata": {},
     "output_type": "execute_result"
    }
   ],
   "source": [
    "employees_score(employee)"
   ]
  },
  {
   "cell_type": "markdown",
   "id": "e8de25a3",
   "metadata": {},
   "source": [
    "SUMMER OF '69: Return the sum of the numbers in the array, except ignore sections of numbers starting with a 6 and extending to the next 9 (every 6 will be followed by at least one 9). Return 0 for no numbers.\n",
    "summer_69([1, 3, 5]) --> 9\n",
    "summer_69([4, 5, 6, 7, 8, 9]) --> 9\n",
    "summer_69([2, 1, 6, 9, 11]) --> 14"
   ]
  },
  {
   "cell_type": "code",
   "execution_count": 1,
   "id": "963bb2d4",
   "metadata": {},
   "outputs": [],
   "source": [
    "def summer_69(arr):\n",
    "    total = 0\n",
    "    add = True\n",
    "    for num in arr:\n",
    "        while add:\n",
    "            if num!=6:\n",
    "                total+=num\n",
    "                break\n",
    "            else:\n",
    "                add = False\n",
    "        while not add:\n",
    "            if num!=9:\n",
    "                break\n",
    "            else:\n",
    "                add = True\n",
    "                break\n",
    "    return total"
   ]
  },
  {
   "cell_type": "code",
   "execution_count": 2,
   "id": "b333e321",
   "metadata": {},
   "outputs": [
    {
     "data": {
      "text/plain": [
       "9"
      ]
     },
     "execution_count": 2,
     "metadata": {},
     "output_type": "execute_result"
    }
   ],
   "source": [
    "summer_69([1, 3, 5])"
   ]
  },
  {
   "cell_type": "code",
   "execution_count": 3,
   "id": "765cebfe",
   "metadata": {},
   "outputs": [
    {
     "data": {
      "text/plain": [
       "9"
      ]
     },
     "execution_count": 3,
     "metadata": {},
     "output_type": "execute_result"
    }
   ],
   "source": [
    "summer_69([4, 5, 6, 7, 8, 9])"
   ]
  },
  {
   "cell_type": "code",
   "execution_count": 4,
   "id": "de87dcd2",
   "metadata": {},
   "outputs": [
    {
     "data": {
      "text/plain": [
       "14"
      ]
     },
     "execution_count": 4,
     "metadata": {},
     "output_type": "execute_result"
    }
   ],
   "source": [
    "summer_69([2, 1, 6, 9, 11])"
   ]
  },
  {
   "cell_type": "markdown",
   "id": "2359a2e3",
   "metadata": {},
   "source": [
    "Lambda Function , Map and Filter"
   ]
  },
  {
   "cell_type": "code",
   "execution_count": 5,
   "id": "cbb8cb00",
   "metadata": {},
   "outputs": [],
   "source": [
    "def square(num):\n",
    "    return num**2"
   ]
  },
  {
   "cell_type": "code",
   "execution_count": 6,
   "id": "90c97ac5",
   "metadata": {},
   "outputs": [
    {
     "data": {
      "text/plain": [
       "16"
      ]
     },
     "execution_count": 6,
     "metadata": {},
     "output_type": "execute_result"
    }
   ],
   "source": [
    "square(4)"
   ]
  },
  {
   "cell_type": "code",
   "execution_count": 7,
   "id": "a49996b5",
   "metadata": {},
   "outputs": [],
   "source": [
    "my_list=[1,2,3,4,5]"
   ]
  },
  {
   "cell_type": "code",
   "execution_count": 9,
   "id": "a6fe911f",
   "metadata": {},
   "outputs": [
    {
     "data": {
      "text/plain": [
       "[1, 4, 9, 16, 25]"
      ]
     },
     "execution_count": 9,
     "metadata": {},
     "output_type": "execute_result"
    }
   ],
   "source": [
    "list(map(square,my_list))"
   ]
  },
  {
   "cell_type": "code",
   "execution_count": 10,
   "id": "1926e675",
   "metadata": {},
   "outputs": [
    {
     "data": {
      "text/plain": [
       "[1, 4, 9, 16, 25]"
      ]
     },
     "execution_count": 10,
     "metadata": {},
     "output_type": "execute_result"
    }
   ],
   "source": [
    "list(map(lambda num:num**2,my_list))"
   ]
  },
  {
   "cell_type": "code",
   "execution_count": 11,
   "id": "cf6a5832",
   "metadata": {},
   "outputs": [],
   "source": [
    "def even_num(num):\n",
    "    if num%2==0:\n",
    "        return True\n",
    "    else:\n",
    "        return False"
   ]
  },
  {
   "cell_type": "code",
   "execution_count": 13,
   "id": "0e6e39ec",
   "metadata": {},
   "outputs": [
    {
     "data": {
      "text/plain": [
       "False"
      ]
     },
     "execution_count": 13,
     "metadata": {},
     "output_type": "execute_result"
    }
   ],
   "source": [
    "even_num(9)"
   ]
  },
  {
   "cell_type": "code",
   "execution_count": 14,
   "id": "1e448db8",
   "metadata": {},
   "outputs": [],
   "source": [
    "my_list = [2,3,4,9,8,13]"
   ]
  },
  {
   "cell_type": "code",
   "execution_count": 15,
   "id": "4f3cfbd3",
   "metadata": {},
   "outputs": [
    {
     "data": {
      "text/plain": [
       "[2, 4, 8]"
      ]
     },
     "execution_count": 15,
     "metadata": {},
     "output_type": "execute_result"
    }
   ],
   "source": [
    "list(filter(even_num,my_list))"
   ]
  },
  {
   "cell_type": "code",
   "execution_count": 17,
   "id": "4516e6a8",
   "metadata": {},
   "outputs": [
    {
     "data": {
      "text/plain": [
       "[2, 4, 8]"
      ]
     },
     "execution_count": 17,
     "metadata": {},
     "output_type": "execute_result"
    }
   ],
   "source": [
    "list(filter(lambda num : num%2==0,my_list))"
   ]
  },
  {
   "cell_type": "markdown",
   "id": "241a585e",
   "metadata": {},
   "source": [
    "# Functions and Methods Homework \n",
    "\n",
    "Complete the following questions:\n",
    "____\n",
    "**Write a function that computes the volume of a sphere given its radius.**\n",
    "<p>The volume of a sphere is given as $$\\frac{4}{3} πr^3$$</p>"
   ]
  },
  {
   "cell_type": "code",
   "execution_count": 58,
   "id": "995a7efd",
   "metadata": {},
   "outputs": [],
   "source": [
    "def vol(rad):\n",
    "    return (4/3)*(3.14)*(rad**3)"
   ]
  },
  {
   "cell_type": "code",
   "execution_count": 59,
   "id": "e25cbf2c",
   "metadata": {},
   "outputs": [
    {
     "data": {
      "text/plain": [
       "33.49333333333333"
      ]
     },
     "execution_count": 59,
     "metadata": {},
     "output_type": "execute_result"
    }
   ],
   "source": [
    "vol(2)"
   ]
  },
  {
   "cell_type": "markdown",
   "id": "998e27b6",
   "metadata": {},
   "source": [
    "___\n",
    "**Write a function that checks whether a number is in a given range (inclusive of high and low)**"
   ]
  },
  {
   "cell_type": "code",
   "execution_count": 62,
   "id": "965dde1f",
   "metadata": {},
   "outputs": [],
   "source": [
    "def find_range(num,low,high):\n",
    "    if num in range(low,high+1):\n",
    "        print(f'{num} in the range of {low} and {high}')\n",
    "    else :\n",
    "        print('Not in the range')"
   ]
  },
  {
   "cell_type": "code",
   "execution_count": 66,
   "id": "d20a9989",
   "metadata": {},
   "outputs": [
    {
     "name": "stdout",
     "output_type": "stream",
     "text": [
      "6 in the range of 5 and 7\n"
     ]
    }
   ],
   "source": [
    "find_range(6,5,7)"
   ]
  },
  {
   "cell_type": "markdown",
   "id": "2b86877c",
   "metadata": {},
   "source": [
    "____\n",
    "**Write a Python function that accepts a string and calculates the number of upper case letters and lower case letters.**\n",
    "\n",
    "    Sample String : 'Hello Mr. Rogers, how are you this fine Tuesday?'\n",
    "    Expected Output : \n",
    "    No. of Upper case characters : 4\n",
    "    No. of Lower case Characters : 33\n",
    "\n",
    "HINT: Two string methods that might prove useful: **.isupper()** and **.islower()**\n",
    "\n",
    "If you feel ambitious, explore the Collections module to solve this problem!"
   ]
  },
  {
   "cell_type": "code",
   "execution_count": 93,
   "id": "6054ead9",
   "metadata": {},
   "outputs": [],
   "source": [
    "def count_letters(s):\n",
    "    uppercase = 0\n",
    "    lowercase = 0\n",
    "    for char in s:   \n",
    "        if char.isupper():\n",
    "            uppercase+=1\n",
    "        elif char.islower():\n",
    "            lowercase+=1\n",
    "        else:\n",
    "            pass\n",
    "\n",
    "    print(f\"The Original String {s}\")\n",
    "    print(f'The No.of Uppercase are {uppercase}')\n",
    "    print(f'The No.of Lowercase are {lowercase}')"
   ]
  },
  {
   "cell_type": "code",
   "execution_count": 94,
   "id": "49591849",
   "metadata": {},
   "outputs": [
    {
     "name": "stdout",
     "output_type": "stream",
     "text": [
      "The Original String Hello Mr. Rogers, how are you this fine Tuesday?\n",
      "The No.of Uppercase are 4\n",
      "The No.of Lowercase are 33\n"
     ]
    }
   ],
   "source": [
    "my_str = 'Hello Mr. Rogers, how are you this fine Tuesday?'\n",
    "count_letters(my_str)"
   ]
  },
  {
   "cell_type": "code",
   "execution_count": 102,
   "id": "0541bbc7",
   "metadata": {},
   "outputs": [],
   "source": [
    "def count_let(s):\n",
    "    d ={'upper':0,'lower':0}\n",
    "    for char in s:   \n",
    "        if char.isupper():\n",
    "            d['upper']+=1\n",
    "        elif char.islower():\n",
    "            d['lower']+=1\n",
    "        else:\n",
    "            pass\n",
    "\n",
    "    print(f\"The Original String {s}\")\n",
    "    print(f'The No.of Uppercase are {d[\"upper\"]}')\n",
    "    print(f'The No.of Lowercase are {d[\"lower\"]}')"
   ]
  },
  {
   "cell_type": "code",
   "execution_count": 103,
   "id": "d894ab0f",
   "metadata": {},
   "outputs": [
    {
     "name": "stdout",
     "output_type": "stream",
     "text": [
      "The Original String Hello Mr. Rogers, how are you this fine Tuesday?\n",
      "The No.of Uppercase are 4\n",
      "The No.of Lowercase are 33\n"
     ]
    }
   ],
   "source": [
    "my_str1 = 'Hello Mr. Rogers, how are you this fine Tuesday?'\n",
    "count_let(my_str)"
   ]
  },
  {
   "cell_type": "markdown",
   "id": "437ebed7",
   "metadata": {},
   "source": [
    "Write a Python function that takes a list and returns a new list with unique elements of the first list.\n",
    "\n",
    "Sample List : [1,1,1,1,2,2,3,3,3,3,4,5]\n",
    "Unique List : [1, 2, 3, 4, 5]"
   ]
  },
  {
   "cell_type": "code",
   "execution_count": 123,
   "id": "aebb4fb2",
   "metadata": {},
   "outputs": [],
   "source": [
    "def unique_num(num):\n",
    "    seen_number = []\n",
    "    \n",
    "    for i in num:\n",
    "        if i not in seen_number:\n",
    "            seen_number.append(i)\n",
    "    return seen_number        "
   ]
  },
  {
   "cell_type": "code",
   "execution_count": 124,
   "id": "310ea9bb",
   "metadata": {},
   "outputs": [
    {
     "data": {
      "text/plain": [
       "[1, 2, 3, 4, 5]"
      ]
     },
     "execution_count": 124,
     "metadata": {},
     "output_type": "execute_result"
    }
   ],
   "source": [
    "sample_list = [1,1,1,1,2,2,3,3,3,3,4,5]\n",
    "unique_num(sample_list)"
   ]
  },
  {
   "cell_type": "markdown",
   "id": "d5f17710",
   "metadata": {},
   "source": [
    "Write a Python function to multiply all the numbers in a list.\n",
    "\n",
    "Sample List : [1, 2, 3, -4]\n",
    "Expected Output : -24"
   ]
  },
  {
   "cell_type": "code",
   "execution_count": 127,
   "id": "67a0fd8d",
   "metadata": {},
   "outputs": [],
   "source": [
    "def multi(num):\n",
    "    total = 1\n",
    "    for i in num:\n",
    "        total *= i\n",
    "    return total    "
   ]
  },
  {
   "cell_type": "code",
   "execution_count": 130,
   "id": "27b3acec",
   "metadata": {},
   "outputs": [
    {
     "data": {
      "text/plain": [
       "-24"
      ]
     },
     "execution_count": 130,
     "metadata": {},
     "output_type": "execute_result"
    }
   ],
   "source": [
    "my_list = [1,2,3,-4]\n",
    "\n",
    "multi(my_list)"
   ]
  },
  {
   "cell_type": "markdown",
   "id": "88fc1821",
   "metadata": {},
   "source": [
    "____\n",
    "**Write a Python function that checks whether a word or phrase is palindrome or not.**\n",
    "\n",
    "Note: A palindrome is word, phrase, or sequence that reads the same backward as forward, e.g., madam,kayak,racecar, or a phrase \"nurses run\". Hint: You may want to check out the .replace() method in a string to help out with dealing with spaces. Also google search how to reverse a string in Python, there are some clever ways to do it with slicing notation."
   ]
  },
  {
   "cell_type": "code",
   "execution_count": 131,
   "id": "1ffeadcd",
   "metadata": {},
   "outputs": [],
   "source": [
    "def panlindrom(lst):\n",
    "    s = lst.replace(' ','')\n",
    "    return s == s[::-1]"
   ]
  },
  {
   "cell_type": "code",
   "execution_count": 135,
   "id": "a2d7e895",
   "metadata": {},
   "outputs": [
    {
     "data": {
      "text/plain": [
       "True"
      ]
     },
     "execution_count": 135,
     "metadata": {},
     "output_type": "execute_result"
    }
   ],
   "source": [
    "panlindrom('nurses run')"
   ]
  },
  {
   "cell_type": "code",
   "execution_count": 136,
   "id": "54e559b2",
   "metadata": {},
   "outputs": [
    {
     "data": {
      "text/plain": [
       "True"
      ]
     },
     "execution_count": 136,
     "metadata": {},
     "output_type": "execute_result"
    }
   ],
   "source": [
    "panlindrom('madam')"
   ]
  },
  {
   "cell_type": "markdown",
   "id": "be4a9b37",
   "metadata": {},
   "source": [
    "____\n",
    "#### Hard:\n",
    "\n",
    "**Write a Python function to check whether a string is pangram or not. (Assume the string passed in does not have any punctuation)**\n",
    "\n",
    "    Note : Pangrams are words or sentences containing every letter of the alphabet at least once.\n",
    "    For example : \"The quick brown fox jumps over the lazy dog\"\n",
    "\n",
    "Hint: You may want to use .replace() method to get rid of spaces.\n",
    "\n",
    "Hint: Look at the [string module](https://stackoverflow.com/questions/16060899/alphabet-range-in-python)\n",
    "\n",
    "Hint: In case you want to use [set comparisons](https://medium.com/better-programming/a-visual-guide-to-set-comparisons-in-python-6ab7edb9ec41)"
   ]
  },
  {
   "cell_type": "code",
   "execution_count": null,
   "id": "3945ab2b",
   "metadata": {},
   "outputs": [],
   "source": []
  }
 ],
 "metadata": {
  "kernelspec": {
   "display_name": "Python 3 (ipykernel)",
   "language": "python",
   "name": "python3"
  },
  "language_info": {
   "codemirror_mode": {
    "name": "ipython",
    "version": 3
   },
   "file_extension": ".py",
   "mimetype": "text/x-python",
   "name": "python",
   "nbconvert_exporter": "python",
   "pygments_lexer": "ipython3",
   "version": "3.10.9"
  }
 },
 "nbformat": 4,
 "nbformat_minor": 5
}
